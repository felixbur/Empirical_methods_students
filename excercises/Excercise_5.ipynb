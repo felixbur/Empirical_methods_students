{
 "cells": [
  {
   "cell_type": "markdown",
   "source": [
    "# Excercise 5: Regression and diagnosis "
   ],
   "metadata": {}
  },
  {
   "cell_type": "markdown",
   "source": [
    "## Names of students\n",
    "XXX"
   ],
   "metadata": {}
  },
  {
   "cell_type": "markdown",
   "source": [
    "## Task 0:\n",
    "* fill the blanks: XXX"
   ],
   "metadata": {}
  },
  {
   "cell_type": "markdown",
   "source": [
    "## Task 1: Question: what is a regression analysis good for?\n",
    "Answer: XXX"
   ],
   "metadata": {}
  },
  {
   "cell_type": "markdown",
   "source": [
    "## Topic: acoustic features (paired per speaker and sentence) shift from neutral to emotional"
   ],
   "metadata": {}
  },
  {
   "cell_type": "code",
   "execution_count": null,
   "source": [
    "import pandas as pd\n",
    "import numpy as np\n",
    "import matplotlib.pyplot as plt\n",
    "import seaborn as sns\n",
    "import pingouin as pg"
   ],
   "outputs": [],
   "metadata": {}
  },
  {
   "cell_type": "code",
   "execution_count": null,
   "source": [
    "# read in the dataframes\n",
    "df_all = pd.read_pickle(XXX)"
   ],
   "outputs": [],
   "metadata": {}
  },
  {
   "cell_type": "markdown",
   "source": [
    "### Teil 1\n",
    "\n",
    "* Wählen Sie die F_0 -Werte der emotionalen und der neutralen samples (jeweils einmal) als \n",
    "    * abhängige und \n",
    "    * als unabhängige Variable aus. \n",
    "* Erstellen Sie damit (zwei) Streudiagramme mit Regressionsgeraden zur Visualisierung der Zusammenhänge. \n",
    "* Interpretieren Sie diese Diagramme."
   ],
   "metadata": {}
  },
  {
   "cell_type": "code",
   "execution_count": null,
   "source": [
    "def my_scatterplot(n, e):\n",
    "    plt.clf() \n",
    "    fig, axs = plt.subplots(ncols=2)\n",
    "    d = pd.DataFrame({'n':n, 'e':e})\n",
    "    sns.regplot(x=n, y=e, data=d, ax=axs[0])\n",
    "    sns.regplot(x=e, y=n, data=d, ax=axs[1])\n",
    "    plt.show()"
   ],
   "outputs": [],
   "metadata": {}
  },
  {
   "cell_type": "code",
   "execution_count": null,
   "source": [
    "def plot_results(n, e, lab):\n",
    "    print(f'{lab}')\n",
    "    my_scatterplot(n, e)\n",
    "    # print pearson's correlation\n",
    "    print(pg.XXX(n, e))"
   ],
   "outputs": [],
   "metadata": {}
  },
  {
   "cell_type": "code",
   "execution_count": null,
   "source": [
    "# get a list of emotions without neutral\n",
    "emotions = df.emotion.unique().to_list()\n",
    "emotions.remove(XXX)"
   ],
   "outputs": [],
   "metadata": {}
  },
  {
   "cell_type": "code",
   "execution_count": null,
   "source": [
    "# plot this for 'happiness'  and 'mean_f0'\n",
    "emotion, feat = XXX, XXX\n",
    "n = df_all[df_all['emotion']=='neutral'][feat]\n",
    "e = df_all[df_all['emotion']==emotion][feat]\n",
    "plot_results(n, e, f'### Emotion: {emotion}, Feature: {feat}')"
   ],
   "outputs": [],
   "metadata": {}
  },
  {
   "cell_type": "code",
   "execution_count": null,
   "source": [
    "# repeat cell above but for values normalized per sex\n",
    "XXX "
   ],
   "outputs": [],
   "metadata": {}
  },
  {
   "cell_type": "code",
   "execution_count": null,
   "source": [
    "# do this for all combinations\n",
    "features = ['mean_f0_norm_sex', 'speech_rate_norm_sex']\n",
    "for feat in XXX:\n",
    "    for emotion in XXX:\n",
    "        if emotion != 'neutral':\n",
    "            n = df_all[df_all['emotion']=='neutral'][feat]\n",
    "            e = df_all[df_all['emotion']==emotion][feat]\n",
    "            plot_results(n, e, f'### Emotion: {emotion}, Feature: {feat}')"
   ],
   "outputs": [],
   "metadata": {}
  },
  {
   "cell_type": "markdown",
   "source": [
    "## interpret your results\n",
    "### Answer: \n",
    "XXX"
   ],
   "metadata": {}
  }
 ],
 "metadata": {
  "kernelspec": {
   "name": "python3",
   "display_name": "Python 3.8.10 64-bit ('researchEnv': venv)"
  },
  "language_info": {
   "codemirror_mode": {
    "name": "ipython",
    "version": 3
   },
   "file_extension": ".py",
   "mimetype": "text/x-python",
   "name": "python",
   "nbconvert_exporter": "python",
   "pygments_lexer": "ipython3",
   "version": "3.8.10"
  },
  "interpreter": {
   "hash": "55d47b72362a172171ddf1d3f425153cea7a3801953229ac15e584d752e02499"
  }
 },
 "nbformat": 4,
 "nbformat_minor": 4
}
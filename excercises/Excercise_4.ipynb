{
 "cells": [
  {
   "cell_type": "markdown",
   "source": [
    "# Excercise: 4 t-tests for dependent samples"
   ],
   "metadata": {}
  },
  {
   "cell_type": "markdown",
   "source": [
    "## Names of students\n",
    "XXX"
   ],
   "metadata": {}
  },
  {
   "cell_type": "markdown",
   "source": [
    "## Task 0:\n",
    "* fill the blanks: XXX"
   ],
   "metadata": {}
  },
  {
   "cell_type": "markdown",
   "source": [
    "## Topic: using speaker to model dependent samples"
   ],
   "metadata": {}
  },
  {
   "cell_type": "code",
   "execution_count": null,
   "source": [
    "import pandas as pd\n",
    "import numpy as np\n",
    "import matplotlib.pyplot as plt\n",
    "import seaborn as sns\n",
    "import scipy.stats\n",
    "import pingouin as pg"
   ],
   "outputs": [],
   "metadata": {}
  },
  {
   "cell_type": "code",
   "execution_count": null,
   "source": [
    "# read in the dataframe\n",
    "df = pd.read_pickle(XXX)"
   ],
   "outputs": [],
   "metadata": {}
  },
  {
   "cell_type": "code",
   "execution_count": null,
   "source": [
    "# get the list of emotions\n",
    "emotions = df.emotion.XXX()"
   ],
   "outputs": [],
   "metadata": {}
  },
  {
   "cell_type": "code",
   "execution_count": null,
   "source": [
    "# define a helper function for a two tailed paired t-test\n",
    "def paired_ttest(a, b, lab):\n",
    "    res = pg.ttest(a, b, paired=XXX, alternative=XXX)\n",
    "    print(lab)\n",
    "    print(res)"
   ],
   "outputs": [],
   "metadata": {}
  },
  {
   "cell_type": "code",
   "execution_count": null,
   "source": [
    "# some helper functions\n",
    "\n",
    "def normality_test(a, lab):\n",
    "    print(f'normality test {lab}')\n",
    "    print(pg.normality(a))\n",
    "# Confidence plot\n",
    "def mean_confidence_interval(data, confidence=0.95):\n",
    "    a = 1.0 * np.array(data)\n",
    "    n = len(a)\n",
    "    m, se = np.mean(a), scipy.stats.sem(a)\n",
    "    h = se * scipy.stats.t.ppf((1 + confidence) / 2., n-1)\n",
    "    return m, h\n",
    "def plot_confidence_interval(a, b):\n",
    "    mn, hn = mean_confidence_interval(a)\n",
    "    me, he = mean_confidence_interval(b)\n",
    "    df_p = pd.DataFrame({'data':['a', 'b'], 'mean':[mn, me], 'ci':[hn, he]})\n",
    "    plt.clf()\n",
    "    plt.errorbar(df_p['data'], df_p['mean'], yerr=df_p['ci'], linestyle='none', fmt='bo')\n",
    "    plt.show()    \n",
    "\n",
    "def plot_results(n, e, lab):\n",
    "    print(f'Emotion: {lab}, samples: {n.shape[0]}')\n",
    "    normality_test(e, lab)\n",
    "    paired_ttest(n, e, lab)\n",
    "    plot_confidence_interval(n, e)"
   ],
   "outputs": [],
   "metadata": {}
  },
  {
   "cell_type": "markdown",
   "source": [
    "For the t-test the distributions must be of same length.\n",
    "We will use two methods to have the same length:\n",
    "1) use speaker means (should give 10 values, one per sentence)\n",
    "2) selecting a random subset based on the smaller number of values"
   ],
   "metadata": {}
  },
  {
   "cell_type": "markdown",
   "source": [
    "## 1) Compare emotion means per speaker"
   ],
   "metadata": {}
  },
  {
   "cell_type": "code",
   "execution_count": null,
   "source": [
    "# perform the test for emotion 'happiness' and the feature 'mean_f0' \n",
    "feat, emotion = XXX, XXX\n",
    "n = df[df['emotion']=='neutral'].groupby(XXX).mean()[feat]\n",
    "e = df[df['emotion']==emotion].groupby(XXX).mean()[feat]\n",
    "plot_results(n, e, emotion)"
   ],
   "outputs": [],
   "metadata": {}
  },
  {
   "cell_type": "code",
   "execution_count": null,
   "source": [
    "# Do this for all features and emotions\n",
    "features = ['mean_f0', 'speech_rate']\n",
    "for feat in XXX:\n",
    "    n = df[df['emotion']=='neutral'].groupby('speaker').mean()[feat]\n",
    "    normality_test(n, 'neutral')\n",
    "    for emotion in XXX:\n",
    "        if emotion != 'neutral':\n",
    "            e = df[df['emotion']==emotion].groupby('speaker').mean()[feat]\n",
    "            plot_results(n, e, emotion)"
   ],
   "outputs": [],
   "metadata": {}
  },
  {
   "cell_type": "markdown",
   "source": [
    "## interpret your results\n",
    "### Answer: \n",
    "XXX"
   ],
   "metadata": {}
  },
  {
   "cell_type": "markdown",
   "source": [
    "## 2) Compare random subset of features per emotion "
   ],
   "metadata": {}
  },
  {
   "cell_type": "code",
   "execution_count": null,
   "source": [
    "feat, emotion = 'mean_f0_norm_sex', 'happiness'\n",
    "neut_sample_num = df[df['emotion']=='neutral'].shape[0]\n",
    "sample_num = df[df['emotion']==emotion].shape[0]\n",
    "if sample_num > neut_sample_num:\n",
    "    sample_num = neut_sample_num\n",
    "n =  df[df['emotion']=='neutral'][feat].sample(sample_num)\n",
    "e = df[df['emotion']==emotion][feat].sample(sample_num)\n",
    "plot_results(n, e, emotion)\n"
   ],
   "outputs": [],
   "metadata": {}
  },
  {
   "cell_type": "markdown",
   "source": [
    "## interpret your results\n",
    "### Answer: \n",
    "XXX"
   ],
   "metadata": {}
  },
  {
   "cell_type": "markdown",
   "source": [
    "# Correlation\n",
    "## Question: are speech rate and mean f0 correlated?"
   ],
   "metadata": {}
  },
  {
   "cell_type": "code",
   "execution_count": null,
   "source": [
    "def my_scatterplot(n, e):\n",
    "    plt.clf() \n",
    "    fig, axs = plt.subplots(ncols=2)\n",
    "    d = pd.DataFrame({'n':n, 'e':e})\n",
    "    sns.regplot(x=n, y=e, data=d, ax=axs[0])\n",
    "    sns.regplot(x=e, y=n, data=d, ax=axs[1])\n",
    "    plt.show()"
   ],
   "outputs": [],
   "metadata": {}
  },
  {
   "cell_type": "code",
   "execution_count": null,
   "source": [
    "pg.corr(df[df.emotion=='happiness'].XXX, df[df.emotion=='happiness'].XXX)"
   ],
   "outputs": [],
   "metadata": {}
  },
  {
   "cell_type": "code",
   "execution_count": null,
   "source": [
    "# visualization\n",
    "my_scatterplot(df[df.emotion==XXX].mean_f0, df[df.emotion==XXX].speech_rate)"
   ],
   "outputs": [],
   "metadata": {}
  },
  {
   "cell_type": "markdown",
   "source": [
    "## interpret your results\n",
    "### Answer: \n",
    "XXX"
   ],
   "metadata": {}
  }
 ],
 "metadata": {
  "kernelspec": {
   "name": "python3",
   "display_name": "Python 3.8.10 64-bit ('researchEnv': venv)"
  },
  "language_info": {
   "codemirror_mode": {
    "name": "ipython",
    "version": 3
   },
   "file_extension": ".py",
   "mimetype": "text/x-python",
   "name": "python",
   "nbconvert_exporter": "python",
   "pygments_lexer": "ipython3",
   "version": "3.8.10"
  },
  "interpreter": {
   "hash": "55d47b72362a172171ddf1d3f425153cea7a3801953229ac15e584d752e02499"
  }
 },
 "nbformat": 4,
 "nbformat_minor": 4
}
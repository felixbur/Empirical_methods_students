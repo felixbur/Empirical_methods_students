{
 "cells": [
  {
   "cell_type": "markdown",
   "metadata": {},
   "source": [
    "# Excercise 2: Explore data"
   ]
  },
  {
   "cell_type": "markdown",
   "metadata": {},
   "source": [
    "## Names of students\n",
    "XXX"
   ]
  },
  {
   "cell_type": "markdown",
   "metadata": {},
   "source": [
    "## Task 1: theory\n",
    "* Read the first chapter of \"Statistik für Human- und Sozialwissenschaftler, (Bortz und Schuster) 7. Auflage (Springer-Lehrbuch)\" on ISIS \n",
    "  \n",
    "### Questions\n",
    "* Gilt das Transitivitätsaxiom bei der Ordinalskala?\n",
    "    * [] yes \n",
    "    * [] no\n",
    "* \"*Die externe Validität einer quasi-experimentellen Untersuchung lässt sich erhöhen, wenn es gelingt, die zu vergleichenden Gruppen nach relevanten Variablen zu parallelisieren.*\" True?\n",
    "    * [] yes \n",
    "    * [] no\n",
    "    \n",
    "* \"*Bei der Untersuchung ob bei freudiger Sprechweise die Grundfrequenz höher ist wäre die Grundfrequenz die unabhängige und emotionale Sprechweise die abhängige Variable.*\" True? \n",
    "    * [] yes \n",
    "    * [] no\n",
    "    \n",
    "* \"*Bei quasiexperimentellen Untersuchungen habe ich auf die Auswahl der Versuchspersonen keinen Einfluss*\" True? \n",
    "    * [] yes \n",
    "    * [] no"
   ]
  },
  {
   "cell_type": "markdown",
   "metadata": {},
   "source": [
    "## Topic: do descriptive statistics on the Berlin Emodb"
   ]
  },
  {
   "cell_type": "code",
   "execution_count": null,
   "metadata": {},
   "outputs": [],
   "source": [
    "import pandas as pd\n",
    "import matplotlib.pyplot as plt\n",
    "import seaborn as sns\n",
    "import warnings\n",
    "from scipy import stats\n",
    "import pingouin as pg"
   ]
  },
  {
   "cell_type": "markdown",
   "metadata": {},
   "source": [
    "[Here's a book with python examples](https://www.greenteapress.com/thinkstats2/html/index.html)"
   ]
  },
  {
   "cell_type": "code",
   "execution_count": null,
   "metadata": {},
   "outputs": [],
   "source": [
    "# read in the dataframes from the previous exercises\n",
    "df = pd.read_pickle(XXX)\n",
    "df_mean = pd.read_pickle(XXX)\n",
    "df_all = pd.read_pickle(XXX)"
   ]
  },
  {
   "cell_type": "markdown",
   "metadata": {},
   "source": [
    "## Get an overview"
   ]
  },
  {
   "cell_type": "code",
   "execution_count": null,
   "metadata": {},
   "outputs": [],
   "source": [
    "# of the first five rows\n",
    "df.head(XXX)"
   ]
  },
  {
   "cell_type": "markdown",
   "metadata": {},
   "source": [
    "task: get some statistics on the sexes"
   ]
  },
  {
   "cell_type": "code",
   "execution_count": null,
   "metadata": {},
   "outputs": [],
   "source": [
    "# inspect mean values per sex\n",
    "df.groupby('sex').XXX()"
   ]
  },
  {
   "cell_type": "markdown",
   "metadata": {},
   "source": [
    "task: separate the sexes in two dataframes"
   ]
  },
  {
   "cell_type": "code",
   "execution_count": null,
   "metadata": {},
   "outputs": [],
   "source": [
    "female = df[df.sex=='XXX']\n",
    "male = df[df.sex=='XXX']"
   ]
  },
  {
   "cell_type": "markdown",
   "metadata": {},
   "source": [
    "task: overview statistics on pandas dataframes"
   ]
  },
  {
   "cell_type": "code",
   "execution_count": null,
   "metadata": {},
   "outputs": [],
   "source": [
    "female.mean_f0.XXX()"
   ]
  },
  {
   "cell_type": "markdown",
   "metadata": {},
   "source": [
    "task: add three cells with overview statistics for male and speech_rate"
   ]
  },
  {
   "cell_type": "markdown",
   "metadata": {},
   "source": [
    "## Centrality"
   ]
  },
  {
   "cell_type": "markdown",
   "metadata": {},
   "source": [
    "task: compute mean values and measures of dispersion\n",
    "[a blog post on descriptive statistics with python](https://www.hackerearth.com/blog/developers/descriptive-statistics-python-numpy/)"
   ]
  },
  {
   "cell_type": "code",
   "execution_count": null,
   "metadata": {},
   "outputs": [],
   "source": [
    "mean_f0_female = female.XXX.mean()\n",
    "mean_f0_male = male.XXX.mean()\n",
    "print(f'mean: female: {mean_f0_female:.3f} ST, male: {mean_f0_male:.3f} ST')"
   ]
  },
  {
   "cell_type": "code",
   "execution_count": null,
   "metadata": {},
   "outputs": [],
   "source": [
    "median_f0_female = female.mean_f0.XXX()\n",
    "median_f0_male = male.mean_f0.XXX()\n",
    "print(f'median: female: {median_f0_female:.3f} ST, male: {median_f0_male:.3f} ST')"
   ]
  },
  {
   "cell_type": "markdown",
   "metadata": {},
   "source": [
    "The mode (most common value) does not make sense with F0 data"
   ]
  },
  {
   "cell_type": "markdown",
   "metadata": {},
   "source": [
    "## Dispersion"
   ]
  },
  {
   "cell_type": "code",
   "execution_count": null,
   "metadata": {},
   "outputs": [],
   "source": [
    "min_f0_female = XXX.mean_f0.min()\n",
    "min_f0_male = XXX.mean_f0.min()\n",
    "print(f'min: female: {min_f0_female:.3f} ST, male: {min_f0_male:.3f} ST')"
   ]
  },
  {
   "cell_type": "code",
   "execution_count": null,
   "metadata": {},
   "outputs": [],
   "source": [
    "max_f0_female = female.mean_f0.XXX()\n",
    "max_f0_male = male.mean_f0.XXX()\n",
    "print(f'max: female: {max_f0_female:.3f} ST, male: {max_f0_male:.3f} ST')"
   ]
  },
  {
   "cell_type": "code",
   "execution_count": null,
   "metadata": {},
   "outputs": [],
   "source": [
    "range_f0_female = max_f0_female - XXX\n",
    "range_f0_male = max_f0_male  - XXX\n",
    "print(f'range: female: {range_f0_female:.3f} ST, male: {range_f0_male:.3f} ST')"
   ]
  },
  {
   "cell_type": "code",
   "execution_count": null,
   "metadata": {},
   "outputs": [],
   "source": [
    "percentile_50_f0_female = female.mean_f0.XXX()\n",
    "percentile_50_f0_male = male.mean_f0.XXX()\n",
    "print(f'percentile_50: female: {percentile_50_f0_female:.3f} ST, male: {percentile_50_f0_male:.3f} ST')"
   ]
  },
  {
   "cell_type": "code",
   "execution_count": null,
   "metadata": {},
   "outputs": [],
   "source": [
    "percentile_25_f0_female = female.mean_f0.quantile(q=XXX)\n",
    "percentile_25_f0_male = male.mean_f0.quantile(q=XXX)\n",
    "print(f'percentile_25: female: {percentile_25_f0_female:.3f} ST, male: {percentile_25_f0_male:.3f} ST')"
   ]
  },
  {
   "cell_type": "markdown",
   "metadata": {},
   "source": [
    "task: instead of calculating variance and standard deviation within dedicated cells, let's do this in a loop:"
   ]
  },
  {
   "cell_type": "code",
   "execution_count": null,
   "metadata": {},
   "outputs": [],
   "source": [
    "plot_funcs = {\n",
    "    'variance': pd.Series.var,\n",
    "    'standard deviation': pd.Series.std,\n",
    "}\n",
    "sexes = {\n",
    "    'female':female.mean_f0,\n",
    "    'male':male.mean_f0,\n",
    "}\n",
    "for f in XXX:\n",
    "    for s in sexes:\n",
    "        x = plot_funcs[f](sexes[s])\n",
    "        print(f'{f} for {s}: {x:.3f}')"
   ]
  },
  {
   "cell_type": "markdown",
   "metadata": {},
   "source": [
    "## Boxplots"
   ]
  },
  {
   "cell_type": "markdown",
   "metadata": {},
   "source": [
    "task: do some boxplots"
   ]
  },
  {
   "cell_type": "code",
   "execution_count": null,
   "metadata": {},
   "outputs": [],
   "source": [
    "female.mean_f0.plot(kind=XXX)"
   ]
  },
  {
   "cell_type": "code",
   "execution_count": null,
   "metadata": {},
   "outputs": [],
   "source": [
    "male.mean_f0.plot(kind=XXX)"
   ]
  },
  {
   "cell_type": "code",
   "execution_count": null,
   "metadata": {},
   "outputs": [],
   "source": [
    "# a plot with all mean F0 boxplots for each emotion\n",
    "df.boxplot('mean_f0', by=XXX, figsize=(12, 8))"
   ]
  },
  {
   "cell_type": "markdown",
   "metadata": {},
   "source": [
    "task: copy the cell above and display boxplots for speech_rate "
   ]
  },
  {
   "cell_type": "markdown",
   "metadata": {},
   "source": [
    "task: make a boxplot with seaborn package with mean_f0 per speaker"
   ]
  },
  {
   "cell_type": "code",
   "execution_count": null,
   "metadata": {},
   "outputs": [],
   "source": [
    "plt.clf()\n",
    "sns.boxplot(x='XXX', y=\"mean_f0\", data=df)\n",
    "sns.swarmplot(x='XXX', y=\"mean_f0\", data=df, color='.25', size=3)\n",
    "plt.show()"
   ]
  },
  {
   "cell_type": "markdown",
   "metadata": {},
   "source": [
    "## Violinplots"
   ]
  },
  {
   "cell_type": "markdown",
   "metadata": {},
   "source": [
    "task: plot a violin plot and describe it"
   ]
  },
  {
   "cell_type": "code",
   "execution_count": null,
   "metadata": {},
   "outputs": [],
   "source": [
    "# violinplot for female mean F0\n",
    "sns.violinplot(x=female.XXX)"
   ]
  },
  {
   "cell_type": "markdown",
   "metadata": {},
   "source": [
    "## Z-transformation (normalization)"
   ]
  },
  {
   "cell_type": "code",
   "execution_count": null,
   "metadata": {},
   "outputs": [],
   "source": [
    "# helper function to standard-normalize data (per speaker, per sex, all)\n",
    "def add_normalizations(df):\n",
    "    with warnings.catch_warnings():\n",
    "        warnings.simplefilter(\"ignore\")\n",
    "        df['mean_f0_norm_spk'] = df.groupby('speaker').transform(lambda x: (x - x.mean()) / x.std())['mean_f0']\n",
    "        df['speech_rate_norm_spk'] = df.groupby('speaker').transform(lambda x: (x - x.mean()) / x.std())['speech_rate']\n",
    "        df['mean_f0_norm_sex'] = df.groupby('sex').transform(lambda x: (x - x.mean()) / x.std())['mean_f0']\n",
    "        df['speech_rate_norm_sex'] = df.groupby('sex').transform(lambda x: (x - x.mean()) / x.std())['speech_rate']\n",
    "        df['mean_f0_norm'] = df.mean_f0.transform(lambda x: (x - x.mean()) / x.std())\n",
    "        df['speech_rate_norm'] = df.speech_rate.transform(lambda x: (x - x.mean()) / x.std())"
   ]
  },
  {
   "cell_type": "code",
   "execution_count": null,
   "metadata": {},
   "outputs": [],
   "source": [
    "add_normalizations(df)\n",
    "add_normalizations(df_mean)\n",
    "add_normalizations(df_all)"
   ]
  },
  {
   "cell_type": "code",
   "execution_count": null,
   "metadata": {},
   "outputs": [],
   "source": [
    "# inspect result first row\n",
    "df.head(XXX)"
   ]
  },
  {
   "cell_type": "code",
   "execution_count": null,
   "metadata": {},
   "outputs": [],
   "source": [
    "# boxplot normalized data\n",
    "feat = 'mean_f0_norm_sex'\n",
    "df.boxplot(XXX, by='sex')\n",
    "plt.tight_layout()"
   ]
  },
  {
   "cell_type": "code",
   "execution_count": null,
   "metadata": {},
   "outputs": [],
   "source": [
    "# Save this for later use\n",
    "df.to_pickle('store/emodb.pkl')\n",
    "df_mean.to_pickle('store/emodb_means.pkl')\n",
    "df_all.to_pickle('store/emodb_all.pkl')"
   ]
  },
  {
   "cell_type": "code",
   "execution_count": null,
   "metadata": {},
   "outputs": [],
   "source": [
    "# helper function for boxplots with data points\n",
    "def my_boxplot(a, b, d):\n",
    "    plt.clf()    \n",
    "    sns.boxplot(x=a, y=b, data=d)\n",
    "    sns.swarmplot(x=a, y=b, data=d, color='.25', size=3)\n",
    "    plt.show()b"
   ]
  },
  {
   "cell_type": "code",
   "execution_count": null,
   "metadata": {},
   "outputs": [],
   "source": [
    "# do a boxplot with datapoints for mean_f0 per sex\n",
    "my_boxplot('sex', 'mean_f0', df)"
   ]
  },
  {
   "cell_type": "code",
   "execution_count": null,
   "metadata": {},
   "outputs": [],
   "source": [
    "# repeat cell above for speech_rate\n",
    "XXX"
   ]
  },
  {
   "cell_type": "code",
   "execution_count": null,
   "metadata": {},
   "outputs": [],
   "source": [
    "# boxplot emotions for all columns that are numeric\n",
    "feats = df.select_dtypes(include=['float32', 'float64']).columns\n",
    "for feat in feats:\n",
    "    df.boxplot(feat, by=XXX)\n",
    "    plt.tight_layout()"
   ]
  },
  {
   "cell_type": "markdown",
   "metadata": {},
   "source": [
    "## Further moments of statistics: skewness and kurtosis"
   ]
  },
  {
   "cell_type": "markdown",
   "metadata": {},
   "source": [
    "### Skewness and Kurtosis\n",
    "Skewness: tilt, Kurtosis: steepness of data-lump"
   ]
  },
  {
   "cell_type": "markdown",
   "metadata": {},
   "source": [
    "Skewness for the original data:"
   ]
  },
  {
   "cell_type": "code",
   "execution_count": null,
   "metadata": {},
   "outputs": [],
   "source": [
    "skew_female = stats.XXX(female.mean_f0)\n",
    "skew_male = stats.XXX(male.mean_f0)\n",
    "print(f'Skewness: female: {skew_female:.3f}, male: {skew_male:.3f}')"
   ]
  },
  {
   "cell_type": "markdown",
   "metadata": {},
   "source": [
    "for the z.transformed data:"
   ]
  },
  {
   "cell_type": "code",
   "execution_count": null,
   "metadata": {},
   "outputs": [],
   "source": [
    "# reassign the sex dataframes\n",
    "female = df[df.sex=='female']\n",
    "male = df[df.sex=='male']"
   ]
  },
  {
   "cell_type": "code",
   "execution_count": null,
   "metadata": {},
   "outputs": [],
   "source": [
    "skew_female = stats.skew(XXX)\n",
    "skew_male = stats.skew(XXX)\n",
    "print(f'Skewness: female: {skew_female[0]:.3f}, male: {skew_male[0]:.3f}')"
   ]
  },
  {
   "cell_type": "markdown",
   "metadata": {},
   "source": [
    "Kurtosis:"
   ]
  },
  {
   "cell_type": "code",
   "execution_count": null,
   "metadata": {},
   "outputs": [],
   "source": [
    "kurt_female = stats.XXX(female.mean_f0)\n",
    "kurt_male = stats.XXX(male.mean_f0)\n",
    "print(f'Kurtosis: female: {kurt_female:.3f}, male: {kurt_male:.3f}')"
   ]
  },
  {
   "cell_type": "markdown",
   "metadata": {},
   "source": [
    "## Show for all"
   ]
  },
  {
   "cell_type": "code",
   "execution_count": null,
   "metadata": {},
   "outputs": [],
   "source": [
    "def normality_test(a, lab):\n",
    "    # Let’s test this statistically to see if the data is normally distributed. \n",
    "    # To test this, one can use the Shapiro-Wilk test for normality. \n",
    "    print(lab)\n",
    "    print(pg.normality(a))"
   ]
  },
  {
   "cell_type": "code",
   "execution_count": null,
   "metadata": {},
   "outputs": [],
   "source": [
    "def plot_dist(sex, feature, label):\n",
    "    print(f'feature: {feature}, group: {label}')\n",
    "    normality_test(sex[feature], label)\n",
    "    print(f'kurtosis: {stats.kurtosis(sex[feature]):.3f}')\n",
    "    print(f'skewness: {stats.skew(sex[feature]):.3f}')    \n",
    "    plt.clf()    \n",
    "    sex[feature].plot(kind='hist') \n",
    "    plt.show()"
   ]
  },
  {
   "cell_type": "code",
   "execution_count": null,
   "metadata": {},
   "outputs": [],
   "source": [
    "feats = ['mean_f0', 'speech_rate']\n",
    "groups = {'all':df, 'female':female, 'male':male}"
   ]
  },
  {
   "cell_type": "code",
   "execution_count": null,
   "metadata": {
    "scrolled": true
   },
   "outputs": [],
   "source": [
    "for f in feats:\n",
    "    for sex in groups.keys():   \n",
    "        plot_dist(groups[sex], f, XXX)"
   ]
  }
 ],
 "metadata": {
  "interpreter": {
   "hash": "55d47b72362a172171ddf1d3f425153cea7a3801953229ac15e584d752e02499"
  },
  "kernelspec": {
   "display_name": "Python 3.8.10 64-bit ('researchEnv': venv)",
   "name": "python3"
  },
  "language_info": {
   "codemirror_mode": {
    "name": "ipython",
    "version": 3
   },
   "file_extension": ".py",
   "mimetype": "text/x-python",
   "name": "python",
   "nbconvert_exporter": "python",
   "pygments_lexer": "ipython3",
   "version": "3.8.10"
  }
 },
 "nbformat": 4,
 "nbformat_minor": 5
}

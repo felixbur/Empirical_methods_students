{
 "cells": [
  {
   "cell_type": "markdown",
   "source": [
    "# Excercise 2: Explore data"
   ],
   "metadata": {}
  },
  {
   "cell_type": "markdown",
   "source": [
    "## Task 0\n",
    "* Read the second chapter of \"Statistik für Human- und Sozialwissenschaftler, (Bortz und Schuster) 7. Auflage (Springer-Lehrbuch)\" on ISIS "
   ],
   "metadata": {}
  },
  {
   "cell_type": "markdown",
   "source": [
    "## Task 1\n",
    "* fill in the blanks: XXX"
   ],
   "metadata": {}
  },
  {
   "cell_type": "markdown",
   "source": [
    "## Topic: do descriptive statistics on the Berlin Emodb"
   ],
   "metadata": {}
  },
  {
   "cell_type": "code",
   "execution_count": null,
   "source": [
    "import pandas as pd\n",
    "import matplotlib.pyplot as plt\n",
    "import seaborn as sns\n",
    "import warnings\n",
    "from scipy import stats\n",
    "import pingouin as pg"
   ],
   "outputs": [],
   "metadata": {}
  },
  {
   "cell_type": "markdown",
   "source": [
    "[Here's a book with python examples](https://www.greenteapress.com/thinkstats2/html/index.html)"
   ],
   "metadata": {}
  },
  {
   "cell_type": "code",
   "execution_count": null,
   "source": [
    "# read in the dataframes from the previous exercises\n",
    "df = pd.read_pickle(XXX)\n",
    "df_mean = pd.read_pickle(XXX)\n",
    "df_all = pd.read_pickle(XXX)"
   ],
   "outputs": [],
   "metadata": {}
  },
  {
   "cell_type": "markdown",
   "source": [
    "## Get an overview"
   ],
   "metadata": {}
  },
  {
   "cell_type": "code",
   "execution_count": null,
   "source": [
    "# of the first five rows\n",
    "df.head(XXX)"
   ],
   "outputs": [],
   "metadata": {}
  },
  {
   "cell_type": "markdown",
   "source": [
    "task: get some statistics on the sexes"
   ],
   "metadata": {}
  },
  {
   "cell_type": "code",
   "execution_count": null,
   "source": [
    "# inspect mean values per sex\n",
    "df.groupby('sex').XXX()"
   ],
   "outputs": [],
   "metadata": {}
  },
  {
   "cell_type": "markdown",
   "source": [
    "task: separate the sexes in two dataframes"
   ],
   "metadata": {}
  },
  {
   "cell_type": "code",
   "execution_count": null,
   "source": [
    "female = df[df.sex=='XXX']\n",
    "male = df[df.sex=='XXX']"
   ],
   "outputs": [],
   "metadata": {}
  },
  {
   "cell_type": "markdown",
   "source": [
    "task: overview statistics on pandas dataframes"
   ],
   "metadata": {}
  },
  {
   "cell_type": "code",
   "execution_count": null,
   "source": [
    "female.mean_f0.XXX()"
   ],
   "outputs": [],
   "metadata": {}
  },
  {
   "cell_type": "markdown",
   "source": [
    "task: add three cells with overview statistics for male and speech_rate"
   ],
   "metadata": {}
  },
  {
   "cell_type": "markdown",
   "source": [
    "## Centrality"
   ],
   "metadata": {}
  },
  {
   "cell_type": "markdown",
   "source": [
    "task: compute mean values and measures of dispersion\n",
    "[a blog post on descriptive statistics with python](https://www.hackerearth.com/blog/developers/descriptive-statistics-python-numpy/)"
   ],
   "metadata": {}
  },
  {
   "cell_type": "code",
   "execution_count": null,
   "source": [
    "mean_f0_female = female.XXX.mean()\n",
    "mean_f0_male = male.XXX.mean()\n",
    "print(f'mean: female: {mean_f0_female:.3f} ST, male: {mean_f0_male:.3f} ST')"
   ],
   "outputs": [],
   "metadata": {}
  },
  {
   "cell_type": "code",
   "execution_count": null,
   "source": [
    "median_f0_female = female.mean_f0.XXX()\n",
    "median_f0_male = male.mean_f0.XXX()\n",
    "print(f'median: female: {median_f0_female:.3f} ST, male: {median_f0_male:.3f} ST')"
   ],
   "outputs": [],
   "metadata": {}
  },
  {
   "cell_type": "markdown",
   "source": [
    "The mode (most common value) does not make sense with F0 data"
   ],
   "metadata": {}
  },
  {
   "cell_type": "markdown",
   "source": [
    "## Dispersion"
   ],
   "metadata": {}
  },
  {
   "cell_type": "code",
   "execution_count": null,
   "source": [
    "min_f0_female = XXX.mean_f0.min()\n",
    "min_f0_male = XXX.mean_f0.min()\n",
    "print(f'min: female: {min_f0_female:.3f} ST, male: {min_f0_male:.3f} ST')"
   ],
   "outputs": [],
   "metadata": {}
  },
  {
   "cell_type": "code",
   "execution_count": null,
   "source": [
    "max_f0_female = female.mean_f0.XXX()\n",
    "max_f0_male = male.mean_f0.XXX()\n",
    "print(f'max: female: {max_f0_female:.3f} ST, male: {max_f0_male:.3f} ST')"
   ],
   "outputs": [],
   "metadata": {}
  },
  {
   "cell_type": "code",
   "execution_count": null,
   "source": [
    "range_f0_female = max_f0_female - XXX\n",
    "range_f0_male = max_f0_male  - XXX\n",
    "print(f'range: female: {range_f0_female:.3f} ST, male: {range_f0_male:.3f} ST')"
   ],
   "outputs": [],
   "metadata": {}
  },
  {
   "cell_type": "code",
   "execution_count": null,
   "source": [
    "percentile_50_f0_female = female.mean_f0.XXX()\n",
    "percentile_50_f0_male = male.mean_f0.XXX()\n",
    "print(f'percentile_50: female: {percentile_50_f0_female:.3f} ST, male: {percentile_50_f0_male:.3f} ST')"
   ],
   "outputs": [],
   "metadata": {}
  },
  {
   "cell_type": "code",
   "execution_count": null,
   "source": [
    "percentile_25_f0_female = female.mean_f0.quantile(q=XXX)\n",
    "percentile_25_f0_male = male.mean_f0.quantile(q=XXX)\n",
    "print(f'percentile_25: female: {percentile_25_f0_female:.3f} ST, male: {percentile_25_f0_male:.3f} ST')"
   ],
   "outputs": [],
   "metadata": {}
  },
  {
   "cell_type": "markdown",
   "source": [
    "task: instead of calculating variance and standard deviation within dedicated cells, let's do this in a loop:"
   ],
   "metadata": {}
  },
  {
   "cell_type": "code",
   "execution_count": null,
   "source": [
    "plot_funcs = {\n",
    "    'variance': pd.Series.var,\n",
    "    'standard deviation': pd.Series.std,\n",
    "}\n",
    "sexes = {\n",
    "    'female':female.mean_f0,\n",
    "    'male':male.mean_f0,\n",
    "}\n",
    "for f in XXX:\n",
    "    for s in sexes:\n",
    "        x = plot_funcs[f](sexes[s])\n",
    "        print(f'{f} for {s}: {x:.3f}')"
   ],
   "outputs": [],
   "metadata": {}
  },
  {
   "cell_type": "markdown",
   "source": [
    "## Boxplots"
   ],
   "metadata": {}
  },
  {
   "cell_type": "markdown",
   "source": [
    "task: do some boxplots"
   ],
   "metadata": {}
  },
  {
   "cell_type": "code",
   "execution_count": null,
   "source": [
    "female.mean_f0.plot(kind=XXX)"
   ],
   "outputs": [],
   "metadata": {}
  },
  {
   "cell_type": "code",
   "execution_count": null,
   "source": [
    "male.mean_f0.plot(kind=XXX)"
   ],
   "outputs": [],
   "metadata": {}
  },
  {
   "cell_type": "code",
   "execution_count": null,
   "source": [
    "# a plot with all mean F0 boxplots for each emotion\n",
    "df.boxplot('mean_f0', by=XXX, figsize=(12, 8))"
   ],
   "outputs": [],
   "metadata": {}
  },
  {
   "cell_type": "markdown",
   "source": [
    "task: copy the cell above and display boxplots for speech_rate "
   ],
   "metadata": {}
  },
  {
   "cell_type": "markdown",
   "source": [
    "task: make a boxplot with seaborn package with mean_f0 per speaker"
   ],
   "metadata": {}
  },
  {
   "cell_type": "code",
   "execution_count": null,
   "source": [
    "plt.clf()\n",
    "sns.boxplot(x='XXX', y=\"mean_f0\", data=df)\n",
    "sns.swarmplot(x='XXX', y=\"mean_f0\", data=df, color='.25', size=3)\n",
    "plt.show()"
   ],
   "outputs": [],
   "metadata": {}
  },
  {
   "cell_type": "markdown",
   "source": [
    "## Violinplots"
   ],
   "metadata": {}
  },
  {
   "cell_type": "markdown",
   "source": [
    "task: plot a violin plot and describe it"
   ],
   "metadata": {}
  },
  {
   "cell_type": "code",
   "execution_count": null,
   "source": [
    "# violinplot for female mean F0\n",
    "sns.violinplot(x=female.XXX)"
   ],
   "outputs": [],
   "metadata": {}
  },
  {
   "cell_type": "markdown",
   "source": [
    "## Z-transformation (normalization)"
   ],
   "metadata": {}
  },
  {
   "cell_type": "code",
   "execution_count": null,
   "source": [
    "# helper function to standard-normalize data (per speaker, per sex, all)\n",
    "def add_normalizations(df):\n",
    "    with warnings.catch_warnings():\n",
    "        warnings.simplefilter(\"ignore\")\n",
    "        df['mean_f0_norm_spk'] = df.groupby('speaker').transform(lambda x: (x - x.mean()) / x.std())['mean_f0']\n",
    "        df['speech_rate_norm_spk'] = df.groupby('speaker').transform(lambda x: (x - x.mean()) / x.std())['speech_rate']\n",
    "        df['mean_f0_norm_sex'] = df.groupby('sex').transform(lambda x: (x - x.mean()) / x.std())['mean_f0']\n",
    "        df['speech_rate_norm_sex'] = df.groupby('sex').transform(lambda x: (x - x.mean()) / x.std())['speech_rate']\n",
    "        df['mean_f0_norm'] = df.mean_f0.transform(lambda x: (x - x.mean()) / x.std())\n",
    "        df['speech_rate_norm'] = df.speech_rate.transform(lambda x: (x - x.mean()) / x.std())"
   ],
   "outputs": [],
   "metadata": {}
  },
  {
   "cell_type": "code",
   "execution_count": null,
   "source": [
    "add_normalizations(df)\n",
    "add_normalizations(df_mean)\n",
    "add_normalizations(df_all)"
   ],
   "outputs": [],
   "metadata": {}
  },
  {
   "cell_type": "code",
   "execution_count": null,
   "source": [
    "# inspect result first row\n",
    "df.head(XXX)"
   ],
   "outputs": [],
   "metadata": {}
  },
  {
   "cell_type": "code",
   "execution_count": null,
   "source": [
    "# boxplot normalized data\n",
    "feat = 'mean_f0_norm_sex'\n",
    "df.boxplot(XXX, by='sex')\n",
    "plt.tight_layout()"
   ],
   "outputs": [],
   "metadata": {}
  },
  {
   "cell_type": "code",
   "execution_count": null,
   "source": [
    "# Save this for later use\n",
    "df.to_pickle('store/emodb.pkl')\n",
    "df_mean.to_pickle('store/emodb_means.pkl')\n",
    "df_all.to_pickle('store/emodb_all.pkl')"
   ],
   "outputs": [],
   "metadata": {}
  },
  {
   "cell_type": "code",
   "execution_count": null,
   "source": [
    "# helper function for boxplots with data points\n",
    "def my_boxplot(a, b, d):\n",
    "    plt.clf()    \n",
    "    sns.boxplot(x=a, y=b, data=d)\n",
    "    sns.swarmplot(x=a, y=b, data=d, color='.25', size=3)\n",
    "    plt.show()b"
   ],
   "outputs": [],
   "metadata": {}
  },
  {
   "cell_type": "code",
   "execution_count": null,
   "source": [
    "# do a boxplot with datapoints for mean_f0 per sex\n",
    "my_boxplot('sex', 'mean_f0', df)"
   ],
   "outputs": [],
   "metadata": {}
  },
  {
   "cell_type": "code",
   "execution_count": null,
   "source": [
    "# repeat cell above for speech_rate\n",
    "XXX"
   ],
   "outputs": [],
   "metadata": {}
  },
  {
   "cell_type": "markdown",
   "source": [
    "## Further moments of statistics: skewness and kurtosis"
   ],
   "metadata": {}
  },
  {
   "cell_type": "markdown",
   "source": [
    "### Skewness and Kurtosis\n",
    "Skewness: tilt, Kurtosis: steepness of data-lump"
   ],
   "metadata": {}
  },
  {
   "cell_type": "markdown",
   "source": [
    "Skewness for the original data:"
   ],
   "metadata": {}
  },
  {
   "cell_type": "code",
   "execution_count": null,
   "source": [
    "skew_female = stats.XXX(female.mean_f0)\n",
    "skew_male = stats.XXX(male.mean_f0)\n",
    "print(f'Skewness: female: {skew_female:.3f}, male: {skew_male:.3f}')"
   ],
   "outputs": [],
   "metadata": {}
  },
  {
   "cell_type": "markdown",
   "source": [
    "for the z.transformed data:"
   ],
   "metadata": {}
  },
  {
   "cell_type": "code",
   "execution_count": null,
   "source": [
    "# reassign the sex dataframes\n",
    "female = df[df.sex=='female']\n",
    "male = df[df.sex=='male']"
   ],
   "outputs": [],
   "metadata": {}
  },
  {
   "cell_type": "code",
   "execution_count": null,
   "source": [
    "skew_female = stats.skew(XXX)\n",
    "skew_male = stats.skew(XXX)\n",
    "print(f'Skewness: female: {skew_female[0]:.3f}, male: {skew_male[0]:.3f}')"
   ],
   "outputs": [],
   "metadata": {}
  },
  {
   "cell_type": "markdown",
   "source": [
    "Kurtosis:"
   ],
   "metadata": {}
  },
  {
   "cell_type": "code",
   "execution_count": null,
   "source": [
    "kurt_female = stats.XXX(female.mean_f0)\n",
    "kurt_male = stats.XXX(male.mean_f0)\n",
    "print(f'Kurtosis: female: {kurt_female:.3f}, male: {kurt_male:.3f}')"
   ],
   "outputs": [],
   "metadata": {}
  },
  {
   "cell_type": "markdown",
   "source": [
    "## Show for all"
   ],
   "metadata": {}
  },
  {
   "cell_type": "code",
   "execution_count": null,
   "source": [
    "def normality_test(a, lab):\n",
    "    # Let’s test this statistically to see if the data is normally distributed. \n",
    "    # To test this, one can use the Shapiro-Wilk test for normality. \n",
    "    print(lab)\n",
    "    print(pg.normality(a))"
   ],
   "outputs": [],
   "metadata": {}
  },
  {
   "cell_type": "code",
   "execution_count": null,
   "source": [
    "def plot_dist(sex, feature, label):\n",
    "    print(f'feature: {feature}, group: {label}')\n",
    "    normality_test(sex[feature], label)\n",
    "    print(f'kurtosis: {stats.kurtosis(sex[feature]):.3f}')\n",
    "    print(f'skewness: {stats.skew(sex[feature]):.3f}')    \n",
    "    plt.clf()    \n",
    "    sex[feature].plot(kind='hist') \n",
    "    plt.show()"
   ],
   "outputs": [],
   "metadata": {}
  },
  {
   "cell_type": "code",
   "execution_count": null,
   "source": [
    "feats = ['mean_f0', 'speech_rate']\n",
    "groups = {'all':df, 'female':female, 'male':male}"
   ],
   "outputs": [],
   "metadata": {}
  },
  {
   "cell_type": "code",
   "execution_count": null,
   "source": [
    "for f in feats:\n",
    "    for sex in groups.keys():   \n",
    "        plot_dist(groups[sex], f, XXX)"
   ],
   "outputs": [],
   "metadata": {
    "scrolled": true
   }
  }
 ],
 "metadata": {
  "kernelspec": {
   "name": "python3",
   "display_name": "Python 3.8.10 64-bit ('researchEnv': venv)"
  },
  "language_info": {
   "codemirror_mode": {
    "name": "ipython",
    "version": 3
   },
   "file_extension": ".py",
   "mimetype": "text/x-python",
   "name": "python",
   "nbconvert_exporter": "python",
   "pygments_lexer": "ipython3",
   "version": "3.8.10"
  },
  "interpreter": {
   "hash": "55d47b72362a172171ddf1d3f425153cea7a3801953229ac15e584d752e02499"
  }
 },
 "nbformat": 4,
 "nbformat_minor": 5
}
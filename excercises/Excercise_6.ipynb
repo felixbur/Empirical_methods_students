{
 "cells": [
  {
   "cell_type": "markdown",
   "source": [
    "# Excercise 6: Variance analysis"
   ],
   "metadata": {}
  },
  {
   "cell_type": "markdown",
   "source": [
    "## Names of students\n",
    "XXX"
   ],
   "metadata": {}
  },
  {
   "cell_type": "markdown",
   "source": [
    "## Task 0:\n",
    "* fill the blanks: XXX"
   ],
   "metadata": {}
  },
  {
   "cell_type": "markdown",
   "source": [
    "## Task 1: Question: when is an ANOVA appropriate? What are the preconditions?\n",
    "Answer: XXX"
   ],
   "metadata": {}
  },
  {
   "cell_type": "markdown",
   "source": [
    "## Topic: Anova\n",
    "* Are the acoustic features affected by emotion?\n",
    "* Are they also affected by text or sex?\n",
    "* The measurement is repeated by the same speakers"
   ],
   "metadata": {}
  },
  {
   "cell_type": "markdown",
   "source": [
    "  ## Variables\n",
    "  \n",
    "* Acoustic features -> dependent Variable\n",
    "* Emotional expressions -> Groups\n",
    "* Distinct speakers -> Repetition of measurement\n",
    "* Distinct texts -> Factor\n",
    "  "
   ],
   "metadata": {}
  },
  {
   "cell_type": "code",
   "execution_count": null,
   "source": [
    "import pandas as pd\n",
    "import os\n",
    "import numpy as np\n",
    "import matplotlib.pyplot as plt\n",
    "import seaborn as sns\n",
    "import pingouin as pg\n"
   ],
   "outputs": [],
   "metadata": {}
  },
  {
   "cell_type": "code",
   "execution_count": null,
   "source": [
    "df = pd.read_pickle('store/emodb.pkl')\n",
    "df_mean = pd.read_pickle('store/emodb_means.pkl')\n",
    "df_all = pd.read_pickle('store/emodb_all.pkl')\n",
    "emotions = df.emotion.unique().to_list()\n",
    "emotions.remove('neutral')\n",
    "print(df.shape, df_mean.shape, df_all.shape)"
   ],
   "outputs": [],
   "metadata": {}
  },
  {
   "cell_type": "markdown",
   "source": [
    "* between factor = sex\n",
    "* within factor = emotion, transcription\n",
    "* subject = speaker\n",
    "* dv = feature"
   ],
   "metadata": {}
  },
  {
   "cell_type": "code",
   "execution_count": null,
   "source": [
    "# perform a mixed Anova\n",
    "pg.mixed_anova(df_all, dv=XXX, within=XXX, between=XXX, subject=XXX)"
   ],
   "outputs": [],
   "metadata": {}
  },
  {
   "cell_type": "code",
   "execution_count": null,
   "source": [
    "# do post hoc tests with bonferroni adjustment\n",
    "posthocs = pg.pairwise_ttests(dv=XXX, within=XXX, subject=XXX,\n",
    "                              between=XXX, padjust=XXX, data=df_all)\n",
    "posthocs.round(3)"
   ],
   "outputs": [],
   "metadata": {}
  },
  {
   "cell_type": "code",
   "execution_count": null,
   "source": [
    "# Alternatively, do one Anova per emotion\n",
    "factors = ['emotion', 'transcription']\n",
    "features = ['mean_f0', 'speech_rate']\n",
    "for emo in emotions:\n",
    "    for fac in factors:\n",
    "        for feat in features:\n",
    "            print(f'Emotion: {emo}, Factor: {fac}, feature: {feat}')\n",
    "            df_act = df_all[df_all.emotion.isin(['neutral', emo])]\n",
    "            print(pg.mixed_anova(df_act, dv=XXX, within=XXX, between=XXX, subject=XXX))"
   ],
   "outputs": [],
   "metadata": {}
  },
  {
   "cell_type": "markdown",
   "source": [
    "## interpret your results\n",
    "### Answer: \n",
    "XXX"
   ],
   "metadata": {}
  }
 ],
 "metadata": {
  "kernelspec": {
   "name": "python3",
   "display_name": "Python 3.8.10 64-bit ('researchEnv': venv)"
  },
  "language_info": {
   "codemirror_mode": {
    "name": "ipython",
    "version": 3
   },
   "file_extension": ".py",
   "mimetype": "text/x-python",
   "name": "python",
   "nbconvert_exporter": "python",
   "pygments_lexer": "ipython3",
   "version": "3.8.10"
  },
  "interpreter": {
   "hash": "55d47b72362a172171ddf1d3f425153cea7a3801953229ac15e584d752e02499"
  }
 },
 "nbformat": 4,
 "nbformat_minor": 4
}
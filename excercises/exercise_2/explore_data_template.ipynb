{
 "cells": [
  {
   "cell_type": "markdown",
   "id": "f420252a",
   "metadata": {},
   "source": [
    "# Explore data"
   ]
  },
  {
   "cell_type": "markdown",
   "id": "afacd5ad",
   "metadata": {},
   "source": [
    "### fill in the blanks: XXX"
   ]
  },
  {
   "cell_type": "code",
   "execution_count": 54,
   "id": "1b910cd0",
   "metadata": {},
   "outputs": [],
   "source": [
    "import pandas as pd\n",
    "import os\n",
    "import numpy as np\n",
    "import matplotlib.pyplot as plt\n",
    "import seaborn as sns\n",
    "from sklearn.preprocessing import StandardScaler\n",
    "from scipy import stats"
   ]
  },
  {
   "cell_type": "code",
   "execution_count": 3,
   "id": "0e58be94",
   "metadata": {},
   "outputs": [],
   "source": [
    "df = pd.read_pickle(XXX)"
   ]
  },
  {
   "cell_type": "markdown",
   "id": "8961d6cc",
   "metadata": {},
   "source": [
    "### Separate the sexes"
   ]
  },
  {
   "cell_type": "code",
   "execution_count": 4,
   "id": "ce46f615",
   "metadata": {},
   "outputs": [],
   "source": [
    "female = df[df.gender=='XXX']\n",
    "male = df[df.gender=='XXX']"
   ]
  },
  {
   "cell_type": "markdown",
   "id": "40f0861a",
   "metadata": {},
   "source": [
    "### Compute mean values and measures of dispersion\n",
    "[link](https://www.hackerearth.com/blog/developers/descriptive-statistics-python-numpy/)"
   ]
  },
  {
   "cell_type": "markdown",
   "id": "4cc8870f",
   "metadata": {},
   "source": [
    "#### Centrality"
   ]
  },
  {
   "cell_type": "code",
   "execution_count": 18,
   "id": "f2ccf0f6",
   "metadata": {},
   "outputs": [
    {
     "name": "stdout",
     "output_type": "stream",
     "text": [
      "mean: female: 35.578 ST, male: 30.609 ST\n"
     ]
    }
   ],
   "source": [
    "mean_f0_female = female.mean_f0.XXX()\n",
    "mean_f0_male = male.mean_f0.XXX()\n",
    "print(f'mean: female: {mean_f0_female:.3f} ST, male: {mean_f0_male:.3f} ST')"
   ]
  },
  {
   "cell_type": "code",
   "execution_count": 19,
   "id": "3d084d19",
   "metadata": {},
   "outputs": [
    {
     "name": "stdout",
     "output_type": "stream",
     "text": [
      "median: female: 35.365 ST, male: 30.960 ST\n"
     ]
    }
   ],
   "source": [
    "median_f0_female = female.mean_f0.XXX()\n",
    "median_f0_male = male.mean_f0.XXX()\n",
    "print(f'median: female: {median_f0_female:.3f} ST, male: {median_f0_male:.3f} ST')"
   ]
  },
  {
   "cell_type": "markdown",
   "id": "df9fd496",
   "metadata": {},
   "source": [
    "The mode (most common value) does not make sense with F0 data"
   ]
  },
  {
   "cell_type": "markdown",
   "id": "f2bda323",
   "metadata": {},
   "source": [
    "#### Dispersion"
   ]
  },
  {
   "cell_type": "code",
   "execution_count": 28,
   "id": "0eb86fcd",
   "metadata": {},
   "outputs": [
    {
     "name": "stdout",
     "output_type": "stream",
     "text": [
      "min: female: 20.357 ST, male: 20.148 ST\n"
     ]
    }
   ],
   "source": [
    "min_f0_female = female.mean_f0.XXX()\n",
    "min_f0_male = male.mean_f0.XXX()\n",
    "print(f'min: female: {min_f0_female:.3f} ST, male: {min_f0_male:.3f} ST')"
   ]
  },
  {
   "cell_type": "code",
   "execution_count": 29,
   "id": "b5e1cb88",
   "metadata": {},
   "outputs": [
    {
     "name": "stdout",
     "output_type": "stream",
     "text": [
      "max: female: 45.786 ST, male: 44.751 ST\n"
     ]
    }
   ],
   "source": [
    "max_f0_female = female.mean_f0.XXX()\n",
    "max_f0_male = male.mean_f0.XXX()\n",
    "print(f'max: female: {max_f0_female:.3f} ST, male: {max_f0_male:.3f} ST')"
   ]
  },
  {
   "cell_type": "code",
   "execution_count": 30,
   "id": "0aaa70b5",
   "metadata": {},
   "outputs": [
    {
     "name": "stdout",
     "output_type": "stream",
     "text": [
      "range: female: 25.429 ST, male: 24.603 ST\n"
     ]
    }
   ],
   "source": [
    "range_f0_female = XXX - XXX\n",
    "range_f0_male = XXX - XXX\n",
    "print(f'range: female: {range_f0_female:.3f} ST, male: {range_f0_male:.3f} ST')"
   ]
  },
  {
   "cell_type": "code",
   "execution_count": 5,
   "id": "142310d2",
   "metadata": {},
   "outputs": [
    {
     "name": "stdout",
     "output_type": "stream",
     "text": [
      "percentile_50: female: 35.365 ST, male: 30.960 ST\n"
     ]
    }
   ],
   "source": [
    "percentile_50_f0_female = female.mean_f0.XXX()\n",
    "percentile_50_f0_male = male.mean_f0.XXX()\n",
    "print(f'percentile_50: female: {percentile_50_f0_female:.3f} ST, male: {percentile_50_f0_male:.3f} ST')"
   ]
  },
  {
   "cell_type": "code",
   "execution_count": 6,
   "id": "27d9e2eb",
   "metadata": {},
   "outputs": [
    {
     "name": "stdout",
     "output_type": "stream",
     "text": [
      "percentile_25: female: 32.437 ST, male: 25.135 ST\n"
     ]
    }
   ],
   "source": [
    "percentile_25_f0_female = female.mean_f0.XXX(q=.25)\n",
    "percentile_25_f0_male = male.mean_f0.XXX(q=.25)\n",
    "print(f'percentile_25: female: {percentile_25_f0_female:.3f} ST, male: {percentile_25_f0_male:.3f} ST')"
   ]
  },
  {
   "cell_type": "markdown",
   "id": "318f8b1e",
   "metadata": {},
   "source": [
    "Instead of calculating variance and standard deviation within dedicated cells, let's do this in a loop:"
   ]
  },
  {
   "cell_type": "code",
   "execution_count": 38,
   "id": "c33c2d26",
   "metadata": {},
   "outputs": [
    {
     "name": "stdout",
     "output_type": "stream",
     "text": [
      "variance for female: 30.005\n",
      "variance for male: 35.142\n",
      "standard deviation for female: 5.478\n",
      "standard deviation for male: 5.928\n"
     ]
    }
   ],
   "source": [
    "plot_funcs = {\n",
    "    'variance': pd.Series.XXX,\n",
    "    'standard deviation': pd.Series.XXX,\n",
    "}\n",
    "sexes = {\n",
    "    'female':XXX.mean_f0,\n",
    "    'male':XXX.mean_f0,\n",
    "}\n",
    "for f in plot_funcs:\n",
    "    for s in sexes:\n",
    "        x = plot_funcs[f](sexes[s])\n",
    "        print(f'{f} for {s}: {x:.3f}')"
   ]
  },
  {
   "cell_type": "markdown",
   "id": "2e7cc406",
   "metadata": {},
   "source": [
    "#### All together"
   ]
  },
  {
   "cell_type": "code",
   "execution_count": 31,
   "id": "b1b19833",
   "metadata": {},
   "outputs": [
    {
     "data": {
      "text/plain": [
       "count    297.000000\n",
       "mean      35.577805\n",
       "std        5.477681\n",
       "min       20.357113\n",
       "25%       32.436733\n",
       "50%       35.364529\n",
       "75%       40.230370\n",
       "max       45.786358\n",
       "Name: mean_f0, dtype: float64"
      ]
     },
     "execution_count": 31,
     "metadata": {},
     "output_type": "execute_result"
    }
   ],
   "source": [
    "female.mean_f0.XXX()"
   ]
  },
  {
   "cell_type": "code",
   "execution_count": 32,
   "id": "be3d9032",
   "metadata": {},
   "outputs": [
    {
     "data": {
      "text/plain": [
       "count    238.000000\n",
       "mean      30.609465\n",
       "std        5.928069\n",
       "min       20.147654\n",
       "25%       25.135182\n",
       "50%       30.959774\n",
       "75%       34.923108\n",
       "max       44.750679\n",
       "Name: mean_f0, dtype: float64"
      ]
     },
     "execution_count": 32,
     "metadata": {},
     "output_type": "execute_result"
    }
   ],
   "source": [
    "male.mean_f0.XXX()"
   ]
  },
  {
   "cell_type": "markdown",
   "id": "b58a9512",
   "metadata": {},
   "source": [
    "#### Boxplots"
   ]
  },
  {
   "cell_type": "code",
   "execution_count": 11,
   "id": "4d57e6b4",
   "metadata": {},
   "outputs": [
    {
     "data": {
      "text/plain": [
       "<AxesSubplot:>"
      ]
     },
     "execution_count": 11,
     "metadata": {},
     "output_type": "execute_result"
    },
    {
     "data": {
      "image/png": "[encoded data removed]",
      "text/plain": [
       "<Figure size 432x288 with 1 Axes>"
      ]
     },
     "metadata": {
      "needs_background": "light"
     },
     "output_type": "display_data"
    }
   ],
   "source": [
    "female.mean_f0.plot(kind='XXX')"
   ]
  },
  {
   "cell_type": "code",
   "execution_count": 10,
   "id": "a2352362",
   "metadata": {},
   "outputs": [
    {
     "data": {
      "text/plain": [
       "<AxesSubplot:>"
      ]
     },
     "execution_count": 10,
     "metadata": {},
     "output_type": "execute_result"
    },
    {
     "data": {
      "image/png": "[encoded data removed]",
      "text/plain": [
       "<Figure size 432x288 with 1 Axes>"
      ]
     },
     "metadata": {
      "needs_background": "light"
     },
     "output_type": "display_data"
    }
   ],
   "source": [
    "male.mean_f0.plot(kind='XXX')"
   ]
  },
  {
   "cell_type": "markdown",
   "id": "96d80567",
   "metadata": {},
   "source": [
    "#### Violinplots"
   ]
  },
  {
   "cell_type": "code",
   "execution_count": 17,
   "id": "a0882714",
   "metadata": {},
   "outputs": [
    {
     "data": {
      "text/plain": [
       "<AxesSubplot:xlabel='mean_f0'>"
      ]
     },
     "execution_count": 17,
     "metadata": {},
     "output_type": "execute_result"
    },
    {
     "data": {
      "image/png": "[encoded data removed]",
      "text/plain": [
       "<Figure size 432x288 with 1 Axes>"
      ]
     },
     "metadata": {
      "needs_background": "light"
     },
     "output_type": "display_data"
    }
   ],
   "source": [
    "sns.XXXplot(x=female.mean_f0)"
   ]
  },
  {
   "cell_type": "code",
   "execution_count": 18,
   "id": "78cf7d76",
   "metadata": {},
   "outputs": [
    {
     "data": {
      "text/plain": [
       "<AxesSubplot:xlabel='mean_f0'>"
      ]
     },
     "execution_count": 18,
     "metadata": {},
     "output_type": "execute_result"
    },
    {
     "data": {
      "image/png": "[encoded data removed]",
      "text/plain": [
       "<Figure size 432x288 with 1 Axes>"
      ]
     },
     "metadata": {
      "needs_background": "light"
     },
     "output_type": "display_data"
    }
   ],
   "source": [
    "sns.XXXplot(x=male.mean_f0)"
   ]
  },
  {
   "cell_type": "markdown",
   "id": "96311d66",
   "metadata": {},
   "source": [
    "### Z-transformation (normalization)"
   ]
  },
  {
   "cell_type": "code",
   "execution_count": 40,
   "id": "851e801c",
   "metadata": {},
   "outputs": [],
   "source": [
    "scaler = StandardScaler()"
   ]
  },
  {
   "cell_type": "code",
   "execution_count": 51,
   "id": "fb8ee16e",
   "metadata": {},
   "outputs": [
    {
     "data": {
      "text/plain": [
       "<AxesSubplot:>"
      ]
     },
     "execution_count": 51,
     "metadata": {},
     "output_type": "execute_result"
    },
    {
     "data": {
      "image/png": "[encoded data removed]",
      "text/plain": [
       "<Figure size 432x288 with 1 Axes>"
      ]
     },
     "metadata": {
      "needs_background": "light"
     },
     "output_type": "display_data"
    }
   ],
   "source": [
    "female_mean_f0_z = scaler.fit_transform(female.XXX.values.reshape(-1, 1))\n",
    "pd.Series(female_mean_f0_z.flatten()).plot(kind='box')"
   ]
  },
  {
   "cell_type": "code",
   "execution_count": 50,
   "id": "649b78b8",
   "metadata": {
    "scrolled": false
   },
   "outputs": [
    {
     "data": {
      "text/plain": [
       "<AxesSubplot:>"
      ]
     },
     "execution_count": 50,
     "metadata": {},
     "output_type": "execute_result"
    },
    {
     "data": {
      "image/png": "[encoded data removed]",
      "text/plain": [
       "<Figure size 432x288 with 1 Axes>"
      ]
     },
     "metadata": {
      "needs_background": "light"
     },
     "output_type": "display_data"
    }
   ],
   "source": [
    "male_mean_f0_z = scaler.fit_transform(male.XXX.values.reshape(-1, 1))\n",
    "pd.Series(male_mean_f0_z.flatten()).plot(kind='box')"
   ]
  },
  {
   "cell_type": "markdown",
   "id": "60788421",
   "metadata": {},
   "source": [
    "### Skewness and Kurtosis\n",
    "Skewness: tilt, Kurtosis: steepness of data-lump"
   ]
  },
  {
   "cell_type": "markdown",
   "id": "617d745f",
   "metadata": {},
   "source": [
    "Skewness for the original data:"
   ]
  },
  {
   "cell_type": "code",
   "execution_count": 58,
   "id": "47ad0e2f",
   "metadata": {},
   "outputs": [
    {
     "name": "stdout",
     "output_type": "stream",
     "text": [
      "Skewness: female: -0.481, male: 0.141\n"
     ]
    }
   ],
   "source": [
    "skew_female = stats.XXX(female.mean_f0)\n",
    "skew_male = stats.XXX(male.mean_f0)\n",
    "print(f'Skewness: female: {skew_female:.3f}, male: {skew_male:.3f}')"
   ]
  },
  {
   "cell_type": "markdown",
   "id": "8cb075a8",
   "metadata": {},
   "source": [
    "for the z.transformed data:"
   ]
  },
  {
   "cell_type": "code",
   "execution_count": 57,
   "id": "59e8722b",
   "metadata": {},
   "outputs": [
    {
     "name": "stdout",
     "output_type": "stream",
     "text": [
      "Skewness: female: -0.481, male: 0.141\n"
     ]
    }
   ],
   "source": [
    "skew_female = stats.XXX(female_mean_f0_z)\n",
    "skew_male = stats.XXX(male_mean_f0_z)\n",
    "print(f'Skewness: female: {skew_female[0]:.3f}, male: {skew_male[0]:.3f}')"
   ]
  },
  {
   "cell_type": "markdown",
   "id": "284604c5",
   "metadata": {},
   "source": [
    "Kurtosis:"
   ]
  },
  {
   "cell_type": "code",
   "execution_count": 59,
   "id": "de92f0ff",
   "metadata": {},
   "outputs": [
    {
     "name": "stdout",
     "output_type": "stream",
     "text": [
      "Kurtosis: female: -0.097, male: -0.981\n"
     ]
    }
   ],
   "source": [
    "kurt_female = stats.XXX(female.mean_f0)\n",
    "kurt_male = stats.XXX(male.mean_f0)\n",
    "print(f'Kurtosis: female: {kurt_female:.3f}, male: {kurt_male:.3f}')"
   ]
  }
 ],
 "metadata": {
  "kernelspec": {
   "display_name": "Python 3 (ipykernel)",
   "language": "python",
   "name": "python3"
  },
  "language_info": {
   "codemirror_mode": {
    "name": "ipython",
    "version": 3
   },
   "file_extension": ".py",
   "mimetype": "text/x-python",
   "name": "python",
   "nbconvert_exporter": "python",
   "pygments_lexer": "ipython3",
   "version": "3.8.10"
  }
 },
 "nbformat": 4,
 "nbformat_minor": 5
}

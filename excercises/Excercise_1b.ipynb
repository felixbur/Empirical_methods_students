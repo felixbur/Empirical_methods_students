{
 "cells": [
  {
   "cell_type": "markdown",
   "source": [
    "# Excercise 1b: Extract acoustic features for Berlin Emodb"
   ],
   "metadata": {}
  },
  {
   "cell_type": "markdown",
   "source": [
    "## Tasks:\n",
    "0) fill in the XXX\n",
    "1) add a markup cell above each code cell that comments what is happening in the code cell.\n",
    "2) get a copy of the midlevel descriptors library (mld.zip from ISIS) and unzip in your seminar folder  "
   ],
   "metadata": {}
  },
  {
   "cell_type": "code",
   "execution_count": null,
   "source": [
    "import opensmile\n",
    "import pandas as pd\n",
    "import os\n",
    "import sys\n",
    "sys.path.append('./mld/src')\n",
    "import midlevel_descriptors as mld"
   ],
   "outputs": [],
   "metadata": {}
  },
  {
   "cell_type": "code",
   "execution_count": null,
   "source": [
    "# read in dataframe from previous exercise\n",
    "df = pd.read_pickle(XXX)"
   ],
   "outputs": [],
   "metadata": {}
  },
  {
   "cell_type": "code",
   "execution_count": null,
   "source": [
    "!mkdir store"
   ],
   "outputs": [],
   "metadata": {}
  },
  {
   "cell_type": "code",
   "execution_count": null,
   "source": [
    "smile_feats_file = 'store/smile_feats.pkl'\n",
    "if not os.path.isfile(smile_feats_file):\n",
    "    smile_functionals = opensmile.Smile(\n",
    "        feature_set = opensmile.FeatureSet.GeMAPSv01b,\n",
    "        feature_level = opensmile.FeatureLevel.Functionals,\n",
    "    )\n",
    "    os_df = smile_functionals.process_files(df.index)\n",
    "    os_df.index = os_df.index.droplevel(1)\n",
    "    os_df.index = os_df.index.droplevel(1)\n",
    "    os_df.to_pickle(smile_feats_file)\n",
    "else:\n",
    "    os_df = pd.read_pickle(smile_feats_file)"
   ],
   "outputs": [],
   "metadata": {}
  },
  {
   "cell_type": "code",
   "execution_count": null,
   "source": [
    "fex_mld = mld.MLD()\n",
    "mld_df = fex_mld.extract_from_index(index=df, cache_path='./mld_cache')"
   ],
   "outputs": [],
   "metadata": {}
  },
  {
   "cell_type": "code",
   "execution_count": null,
   "source": [
    "df['mean_f0'] = os_df['F0semitoneFrom27.5Hz_sma3nz_amean']"
   ],
   "outputs": [],
   "metadata": {}
  },
  {
   "cell_type": "code",
   "execution_count": null,
   "source": [
    "def st2hz(st):\n",
    "    return 2 * st / 12 * 27.5\n",
    "df['mean_f0_hz'] = df['mean_f0'].apply(st2hz)"
   ],
   "outputs": [],
   "metadata": {}
  },
  {
   "cell_type": "code",
   "execution_count": null,
   "source": [
    "df['speech_rate'] = mld_df['hld_sylRate']"
   ],
   "outputs": [],
   "metadata": {}
  },
  {
   "cell_type": "code",
   "execution_count": null,
   "source": [
    "df.to_pickle('store/emodb.pkl')"
   ],
   "outputs": [],
   "metadata": {}
  },
  {
   "cell_type": "code",
   "execution_count": null,
   "source": [
    "# inspect the first three entries of the dataframe\n",
    "df.head(XXX)"
   ],
   "outputs": [],
   "metadata": {}
  },
  {
   "cell_type": "markdown",
   "source": [
    "## Prepare a second dataframe with means (from sentence) per speaker and emotion."
   ],
   "metadata": {}
  },
  {
   "cell_type": "code",
   "execution_count": null,
   "source": [
    "# remember the sexes\n",
    "sexes = {}\n",
    "for spk in df.speaker.unique():\n",
    "    sex = df.loc[df['speaker'] == spk, 'sex'].unique()[0]\n",
    "    sexes.update({spk: sex})\n",
    "print(sexes)"
   ],
   "outputs": [],
   "metadata": {}
  },
  {
   "cell_type": "code",
   "execution_count": null,
   "source": [
    "# group by speaker and emotion, neglecting sex and transcription\n",
    "df_mean = df.groupby(['speaker', 'emotion']).mean()\n",
    "df_mean = df_mean.reset_index()\n",
    "# add the sex\n",
    "df_mean['sex'] = df_mean['speaker'].apply(lambda x: sexes.get(x))\n"
   ],
   "outputs": [],
   "metadata": {}
  },
  {
   "cell_type": "code",
   "execution_count": null,
   "source": [
    "# reorder\n",
    "cols = list(df_mean)\n",
    "cols.insert(2, cols.pop(cols.index('sex')))\n",
    "df_mean = df_mean.loc[:, cols]"
   ],
   "outputs": [],
   "metadata": {}
  },
  {
   "cell_type": "code",
   "execution_count": null,
   "source": [
    "# inspect the shapes\n",
    "print(df.shape, df_mean.shape)"
   ],
   "outputs": [],
   "metadata": {}
  },
  {
   "cell_type": "code",
   "execution_count": null,
   "source": [
    "df_mean.head(1)"
   ],
   "outputs": [],
   "metadata": {}
  },
  {
   "cell_type": "code",
   "execution_count": null,
   "source": [
    "df_mean.to_pickle('store/emodb_means.pkl')"
   ],
   "outputs": [],
   "metadata": {}
  },
  {
   "cell_type": "markdown",
   "source": [
    "## Make a third dataframe where the missing values are replaced by mean values (per emotion and speaker)"
   ],
   "metadata": {}
  },
  {
   "cell_type": "code",
   "execution_count": null,
   "source": [
    "speakers = df.speaker.unique()\n",
    "transcriptions = df.transcription.unique()\n",
    "emotions = df.emotion.unique()"
   ],
   "outputs": [],
   "metadata": {}
  },
  {
   "cell_type": "code",
   "execution_count": null,
   "source": [
    "from itertools import product\n",
    "df_all = pd.DataFrame(list(product(speakers, emotions, transcriptions)), columns=['speaker', 'emotion', 'transcription'])\n",
    "df_all['mean_f0'] = None\n",
    "df_all['mean_f0_hz'] = None\n",
    "df_all['speech_rate'] = None"
   ],
   "outputs": [],
   "metadata": {}
  },
  {
   "cell_type": "code",
   "execution_count": null,
   "source": [
    "def get_val (feat, emotion, speaker, transcript):\n",
    "    \"\"\"get the first value for speaker, emotion and transcript\"\"\"\n",
    "    c1 = df['emotion']==emotion\n",
    "    c2 = df['speaker'] == speaker\n",
    "    c3 = df['transcription'] == transcript \n",
    "    try:\n",
    "        return df.loc[c1 & c2 & c3, feat][0]\n",
    "    except IndexError:\n",
    "        # if the value is not there, use the mean val from the other transcripts\n",
    "        mean  = df.loc[c1 & c2, feat].mean()\n",
    "        if pd.isna(mean):\n",
    "            # if there aren't any values for this speaker and emotion, use the mean for his/her sex and emotion\n",
    "            ssex = sexes.get(speaker)\n",
    "            c4 = df.sex==ssex\n",
    "            mean = df.loc[c1 & c4, feat].mean()    \n",
    "        return mean\n"
   ],
   "outputs": [],
   "metadata": {}
  },
  {
   "cell_type": "code",
   "execution_count": null,
   "source": [
    "features = ['mean_f0', 'mean_f0_hz', 'speech_rate']\n",
    "\n",
    "for speaker in speakers:\n",
    "    for emotion in emotions:\n",
    "        for transcript in transcriptions:\n",
    "            for feat in features:\n",
    "                c1 = df_all['emotion']==emotion\n",
    "                c2 = df_all['speaker'] == speaker\n",
    "                c3 = df_all['transcription'] == transcript\n",
    "                df_all.loc[c1 & c2 & c3, feat] = get_val(feat, emotion, speaker, transcript)"
   ],
   "outputs": [],
   "metadata": {}
  },
  {
   "cell_type": "code",
   "execution_count": null,
   "source": [
    "# add the sex\n",
    "df_all['sex'] = df_all['speaker'].apply(lambda x: sexes.get(x))\n",
    "# reorder\n",
    "cols = list(df_all)\n",
    "cols.insert(2, cols.pop(cols.index('sex')))\n",
    "df_all = df_all.loc[:, cols]"
   ],
   "outputs": [],
   "metadata": {}
  },
  {
   "cell_type": "code",
   "execution_count": null,
   "source": [
    "# make it numbers\n",
    "df_all.mean_f0 = pd.to_numeric(df_all.mean_f0)\n",
    "df_all.speech_rate = pd.to_numeric(df_all.speech_rate)\n",
    "df_all.mean_f0_hz = pd.to_numeric(df_all.mean_f0_hz)"
   ],
   "outputs": [],
   "metadata": {}
  },
  {
   "cell_type": "code",
   "execution_count": null,
   "source": [
    "df_all.to_pickle('store/emodb_all.pkl')"
   ],
   "outputs": [],
   "metadata": {}
  },
  {
   "cell_type": "code",
   "execution_count": null,
   "source": [
    "# print the shapes of all three dataframes\n",
    "print (XXX)"
   ],
   "outputs": [],
   "metadata": {}
  },
  {
   "cell_type": "code",
   "execution_count": null,
   "source": [
    "df_all.isna().any()"
   ],
   "outputs": [],
   "metadata": {}
  }
 ],
 "metadata": {
  "kernelspec": {
   "name": "python3",
   "display_name": "Python 3.8.10 64-bit ('researchEnv': venv)"
  },
  "language_info": {
   "codemirror_mode": {
    "name": "ipython",
    "version": 3
   },
   "file_extension": ".py",
   "mimetype": "text/x-python",
   "name": "python",
   "nbconvert_exporter": "python",
   "pygments_lexer": "ipython3",
   "version": "3.8.10"
  },
  "interpreter": {
   "hash": "55d47b72362a172171ddf1d3f425153cea7a3801953229ac15e584d752e02499"
  }
 },
 "nbformat": 4,
 "nbformat_minor": 5
}
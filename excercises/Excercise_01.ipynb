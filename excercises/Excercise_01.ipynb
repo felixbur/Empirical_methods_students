{
 "cells": [
  {
   "cell_type": "markdown",
   "metadata": {},
   "source": [
    "# Excercises 01\n",
    "Foundations of empirical methods for speech scientists"
   ]
  },
  {
   "cell_type": "markdown",
   "metadata": {},
   "source": [
    "## Task 1\n",
    "* Read the first chapter of \"Statistik für Human- und Sozialwissenschaftler, (Bortz und Schuster) 7. Auflage (Springer-Lehrbuch)\" on ISIS "
   ]
  },
  {
   "cell_type": "markdown",
   "metadata": {},
   "source": [
    "### Questions\n",
    "* Gilt das Transitivitätsaxiom bei der Ordinalskala?\n",
    "    * [] yes \n",
    "    * [] no\n",
    "* \"*Die externe Validität einer quasi-experimentellen Untersuchung lässt sich erhöhen, wenn es gelingt, die zu vergleichenden Gruppen nach relevanten Variablen zu parallelisieren.*\" True?\n",
    "    * [] yes \n",
    "    * [] no\n",
    "    \n",
    "* \"*Bei der Untersuchung ob bei freudiger Sprechweise die Grundfrequenz höher ist wäre die Grundfrequenz die unabhängige und emotionale Sprechweise die abhängige Variable.*\" True? \n",
    "    * [] yes \n",
    "    * [] no\n",
    "    \n",
    "* \"*Bei quasiexperimentellen Untersuchungen habe ich auf die Auswahl der Versuchspersonen keinen Einfluss*\" True? \n",
    "    * [] yes \n",
    "    * [] no\n",
    "\n",
    "\n",
    "    "
   ]
  },
  {
   "cell_type": "markdown",
   "metadata": {},
   "source": [
    "# Prepare emodb\n",
    "fill the blanks: XXX ([audformat link](https://audeering.github.io/audformat/))"
   ]
  },
  {
   "cell_type": "code",
   "execution_count": 2,
   "metadata": {},
   "outputs": [],
   "source": [
    "import os\n",
    "import pandas as pd\n",
    "import audformat"
   ]
  },
  {
   "cell_type": "code",
   "execution_count": 3,
   "metadata": {},
   "outputs": [],
   "source": [
    "# load emodb to disk\n",
    "if not os.path.isdir('./emodb/'):\n",
    "    !wget -c https://tubcloud.tu-berlin.de/s/LzPWz83Fjneb6SP/download\n",
    "    !mv download emodb_audformat.zip\n",
    "    !unzip emodb_audformat.zip\n",
    "    !rm emodb_audformat.zip"
   ]
  },
  {
   "cell_type": "code",
   "execution_count": 4,
   "metadata": {},
   "outputs": [],
   "source": [
    "# load the database to memory\n",
    "root = './emodb/'\n",
    "db = audformat.XXX"
   ]
  },
  {
   "cell_type": "code",
   "execution_count": 5,
   "metadata": {},
   "outputs": [
    {
     "data": {
      "text/plain": [
       "name: emodb\n",
       "description: Berlin Database of Emotional Speech A German database of emotional utterances\n",
       "  spoken by actors recorded as a part of the DFG funded research project SE462/3-1\n",
       "  in 1997 and 1999. Recordings took place in the anechoic chamber of the Technical\n",
       "  University Berlin, department of Technical Acoustics. It contains about 500 utterances\n",
       "  from ten different actors expressing basic six emotions and neutral.\n",
       "source: http://emodb.bilderbar.info\n",
       "usage: commercial\n",
       "languages: [German]\n",
       "media:\n",
       "  audb: {type: audio, format: wav, channels: 1, sampling_rate: 16000, mix: mono}\n",
       "  microphone: {type: audio, format: wav, channels: 1, sampling_rate: 16000}\n",
       "raters:\n",
       "  gold: {type: human}\n",
       "schemes:\n",
       "  duration: {dtype: time}\n",
       "  emotion:\n",
       "    description: Six basic emotions and neutral.\n",
       "    dtype: str\n",
       "    labels: [anger, boredom, disgust, fear, happiness, sadness, neutral]\n",
       "  speaker:\n",
       "    description: The actors could produce each sentence as often as they liked and\n",
       "      were asked to remember a real situation from their past when they had felt this\n",
       "      emotion.\n",
       "    dtype: int\n",
       "    labels:\n",
       "      3: {gender: male, age: 31, language: German}\n",
       "      8: {gender: female, age: 34, language: German}\n",
       "      9: {gender: male, age: 21, language: German}\n",
       "      10: {gender: female, age: 32, language: German}\n",
       "      11: {gender: male, age: 26, language: German}\n",
       "      12: {gender: male, age: 30, language: German}\n",
       "      13: {gender: female, age: 32, language: German}\n",
       "      14: {gender: female, age: 35, language: German}\n",
       "      15: {gender: male, age: 25, language: German}\n",
       "      16: {gender: female, age: 31, language: German}\n",
       "  transcription:\n",
       "    description: Sentence produced by actor.\n",
       "    dtype: str\n",
       "    labels: {a01: Der Lappen liegt auf dem Eisschrank., a02: Das will sie am Mittwoch\n",
       "        abgeben., a04: Heute abend könnte ich es ihm sagen., a05: Das schwarze Stück\n",
       "        Papier befindet sich da oben neben dem Holzstück., a07: In sieben Stunden\n",
       "        wird es soweit sein., b01: 'Was sind denn das für Tüten, die da unter dem\n",
       "        Tisch stehen.', b02: Sie haben es gerade hochgetragen und jetzt gehen sie\n",
       "        wieder runter., b03: An den Wochenenden bin ich jetzt immer nach Hause gefahren\n",
       "        und habe Agnes besucht., b09: Ich will das eben wegbringen und dann mit Karl\n",
       "        was trinken gehen., b10: 'Die wird auf dem Platz sein, wo wir sie immer hinlegen.'}\n",
       "tables:\n",
       "  emotion:\n",
       "    type: filewise\n",
       "    columns:\n",
       "      emotion: {scheme_id: emotion, rater_id: gold}\n",
       "      '@emotion': {}\n",
       "  files:\n",
       "    type: filewise\n",
       "    columns:\n",
       "      duration: {scheme_id: duration}\n",
       "      speaker: {scheme_id: speaker}\n",
       "      transcription: {scheme_id: transcription}\n",
       "audb: {root: /home/fburkhardt/ResearchProjects/tmp/emodb, version: 1.0.1, group_id: com.audeering.data.emodb,\n",
       "  only_metadata: false, include: null, exclude: null}\n",
       "pdf: http://citeseerx.ist.psu.edu/viewdoc/download?doi=10.1.1.130.8506&rep=rep1&type=pdf"
      ]
     },
     "execution_count": 5,
     "metadata": {},
     "output_type": "execute_result"
    }
   ],
   "source": [
    "# inspect the database\n",
    "db"
   ]
  },
  {
   "cell_type": "code",
   "execution_count": null,
   "metadata": {},
   "outputs": [],
   "source": [
    "# map the file pathes to the audio\n",
    "db.map_files(lambda x: XXX))   "
   ]
  },
  {
   "cell_type": "code",
   "execution_count": null,
   "metadata": {},
   "outputs": [],
   "source": [
    "# access speaker gender and age, and transcription, from the speaker dictionaries\n",
    "df = db.tables['files'].get(map={'speaker': [XXX], 'transcription': [XXX]})"
   ]
  },
  {
   "cell_type": "code",
   "execution_count": null,
   "metadata": {},
   "outputs": [],
   "source": [
    "# copy the emotion label from the the emotion dataframe to the files dataframe\n",
    "df['emotion'] = XXX.df['emotion']"
   ]
  },
  {
   "cell_type": "code",
   "execution_count": null,
   "metadata": {},
   "outputs": [],
   "source": [
    "# add a column with the word count\n",
    "df['wordcount'] = df['transcription'].apply (lambda row: XXX)"
   ]
  },
  {
   "cell_type": "code",
   "execution_count": null,
   "metadata": {},
   "outputs": [],
   "source": [
    "# store to disk for later use\n",
    "df.XXX('store/emodb.pkl')"
   ]
  },
  {
   "cell_type": "code",
   "execution_count": 33,
   "metadata": {},
   "outputs": [
    {
     "data": {
      "text/html": [
       "<div>\n",
       "<style scoped>\n",
       "    .dataframe tbody tr th:only-of-type {\n",
       "        vertical-align: middle;\n",
       "    }\n",
       "\n",
       "    .dataframe tbody tr th {\n",
       "        vertical-align: top;\n",
       "    }\n",
       "\n",
       "    .dataframe thead th {\n",
       "        text-align: right;\n",
       "    }\n",
       "</style>\n",
       "<table border=\"1\" class=\"dataframe\">\n",
       "  <thead>\n",
       "    <tr style=\"text-align: right;\">\n",
       "      <th></th>\n",
       "      <th>duration</th>\n",
       "      <th>speaker</th>\n",
       "      <th>transcription</th>\n",
       "      <th>gender</th>\n",
       "      <th>age</th>\n",
       "      <th>emotion</th>\n",
       "      <th>wordcount</th>\n",
       "    </tr>\n",
       "    <tr>\n",
       "      <th>file</th>\n",
       "      <th></th>\n",
       "      <th></th>\n",
       "      <th></th>\n",
       "      <th></th>\n",
       "      <th></th>\n",
       "      <th></th>\n",
       "      <th></th>\n",
       "    </tr>\n",
       "  </thead>\n",
       "  <tbody>\n",
       "    <tr>\n",
       "      <th>./emodb/wav/03a01Fa.wav</th>\n",
       "      <td>0 days 00:00:01.898250</td>\n",
       "      <td>3</td>\n",
       "      <td>Der Lappen liegt auf dem Eisschrank.</td>\n",
       "      <td>male</td>\n",
       "      <td>31</td>\n",
       "      <td>happiness</td>\n",
       "      <td>6</td>\n",
       "    </tr>\n",
       "  </tbody>\n",
       "</table>\n",
       "</div>"
      ],
      "text/plain": [
       "                                      duration speaker  \\\n",
       "file                                                     \n",
       "./emodb/wav/03a01Fa.wav 0 days 00:00:01.898250       3   \n",
       "\n",
       "                                                transcription gender  age  \\\n",
       "file                                                                        \n",
       "./emodb/wav/03a01Fa.wav  Der Lappen liegt auf dem Eisschrank.   male   31   \n",
       "\n",
       "                           emotion  wordcount  \n",
       "file                                           \n",
       "./emodb/wav/03a01Fa.wav  happiness          6  "
      ]
     },
     "execution_count": 33,
     "metadata": {},
     "output_type": "execute_result"
    }
   ],
   "source": [
    "# inspect the result\n",
    "df.head(1)"
   ]
  }
 ],
 "metadata": {
  "kernelspec": {
   "display_name": "Python 3",
   "language": "python",
   "name": "python3"
  },
  "language_info": {
   "codemirror_mode": {
    "name": "ipython",
    "version": 3
   },
   "file_extension": ".py",
   "mimetype": "text/x-python",
   "name": "python",
   "nbconvert_exporter": "python",
   "pygments_lexer": "ipython3",
   "version": "3.8.10"
  }
 },
 "nbformat": 4,
 "nbformat_minor": 5
}

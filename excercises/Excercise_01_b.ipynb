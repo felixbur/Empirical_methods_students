{
 "cells": [
  {
   "cell_type": "markdown",
   "metadata": {},
   "source": [
    "# Extract features\n",
    "fill the blanks: XXX"
   ]
  },
  {
   "cell_type": "code",
   "execution_count": 6,
   "metadata": {},
   "outputs": [],
   "source": [
    "import opensmile\n",
    "import pandas as pd\n",
    "import  os"
   ]
  },
  {
   "cell_type": "code",
   "execution_count": 4,
   "metadata": {},
   "outputs": [],
   "source": [
    "df = pd.read_pickle(XXX)"
   ]
  },
  {
   "cell_type": "code",
   "execution_count": 7,
   "metadata": {},
   "outputs": [],
   "source": [
    "smile_feats_file = 'store/smile_feats.pkl'\n",
    "if not os.path.isfile(XXX): # test if the features have been extracted by former run\n",
    "    smile_functionals = opensmile.Smile(\n",
    "        feature_set = opensmile.FeatureSet.XXX, # select an appropriate features set\n",
    "        feature_level = opensmile.FeatureLevel.XXX, # extract Functionals\n",
    "    )\n",
    "    os_df = smile_functionals.process_files(df.index)\n",
    "    # drop the multi index (that indecates start and end in the file), it's not needed\n",
    "    os_df.index = os_df.index.droplevel(1)\n",
    "    os_df.index = os_df.index.droplevel(1)\n",
    "    os_df.to_pickle(XXX) # store to disk for later use\n",
    "else:\n",
    "    os_df = pd.read_pickle(XXX) # read from disk"
   ]
  },
  {
   "cell_type": "code",
   "execution_count": 8,
   "metadata": {},
   "outputs": [],
   "source": [
    "df[XXX] = os_df['F0semitoneFrom27.5Hz_sma3nz_amean'] # add a coumn named 'mean_f0' from the features dataframe to the main dataframe"
   ]
  },
  {
   "cell_type": "code",
   "execution_count": 9,
   "metadata": {},
   "outputs": [],
   "source": [
    "df.to_pickle('store/emodb.pkl') # save back to disk for further use"
   ]
  },
  {
   "cell_type": "code",
   "execution_count": 10,
   "metadata": {},
   "outputs": [
    {
     "data": {
      "text/html": [
       "<div>\n",
       "<style scoped>\n",
       "    .dataframe tbody tr th:only-of-type {\n",
       "        vertical-align: middle;\n",
       "    }\n",
       "\n",
       "    .dataframe tbody tr th {\n",
       "        vertical-align: top;\n",
       "    }\n",
       "\n",
       "    .dataframe thead th {\n",
       "        text-align: right;\n",
       "    }\n",
       "</style>\n",
       "<table border=\"1\" class=\"dataframe\">\n",
       "  <thead>\n",
       "    <tr style=\"text-align: right;\">\n",
       "      <th></th>\n",
       "      <th>duration</th>\n",
       "      <th>speaker</th>\n",
       "      <th>transcription</th>\n",
       "      <th>gender</th>\n",
       "      <th>age</th>\n",
       "      <th>emotion</th>\n",
       "      <th>wordcount</th>\n",
       "      <th>mean_f0</th>\n",
       "    </tr>\n",
       "    <tr>\n",
       "      <th>file</th>\n",
       "      <th></th>\n",
       "      <th></th>\n",
       "      <th></th>\n",
       "      <th></th>\n",
       "      <th></th>\n",
       "      <th></th>\n",
       "      <th></th>\n",
       "      <th></th>\n",
       "    </tr>\n",
       "  </thead>\n",
       "  <tbody>\n",
       "    <tr>\n",
       "      <th>./emodb/wav/03a01Fa.wav</th>\n",
       "      <td>0 days 00:00:01.898250</td>\n",
       "      <td>3</td>\n",
       "      <td>Der Lappen liegt auf dem Eisschrank.</td>\n",
       "      <td>male</td>\n",
       "      <td>31</td>\n",
       "      <td>happiness</td>\n",
       "      <td>6</td>\n",
       "      <td>31.188164</td>\n",
       "    </tr>\n",
       "    <tr>\n",
       "      <th>./emodb/wav/03a01Nc.wav</th>\n",
       "      <td>0 days 00:00:01.611250</td>\n",
       "      <td>3</td>\n",
       "      <td>Der Lappen liegt auf dem Eisschrank.</td>\n",
       "      <td>male</td>\n",
       "      <td>31</td>\n",
       "      <td>neutral</td>\n",
       "      <td>6</td>\n",
       "      <td>25.022936</td>\n",
       "    </tr>\n",
       "    <tr>\n",
       "      <th>./emodb/wav/03a01Wa.wav</th>\n",
       "      <td>0 days 00:00:01.877812500</td>\n",
       "      <td>3</td>\n",
       "      <td>Der Lappen liegt auf dem Eisschrank.</td>\n",
       "      <td>male</td>\n",
       "      <td>31</td>\n",
       "      <td>anger</td>\n",
       "      <td>6</td>\n",
       "      <td>34.292316</td>\n",
       "    </tr>\n",
       "    <tr>\n",
       "      <th>./emodb/wav/03a02Fc.wav</th>\n",
       "      <td>0 days 00:00:02.006250</td>\n",
       "      <td>3</td>\n",
       "      <td>Das will sie am Mittwoch abgeben.</td>\n",
       "      <td>male</td>\n",
       "      <td>31</td>\n",
       "      <td>happiness</td>\n",
       "      <td>6</td>\n",
       "      <td>37.576569</td>\n",
       "    </tr>\n",
       "    <tr>\n",
       "      <th>./emodb/wav/03a02Nc.wav</th>\n",
       "      <td>0 days 00:00:01.439812500</td>\n",
       "      <td>3</td>\n",
       "      <td>Das will sie am Mittwoch abgeben.</td>\n",
       "      <td>male</td>\n",
       "      <td>31</td>\n",
       "      <td>neutral</td>\n",
       "      <td>6</td>\n",
       "      <td>25.040188</td>\n",
       "    </tr>\n",
       "  </tbody>\n",
       "</table>\n",
       "</div>"
      ],
      "text/plain": [
       "                                         duration speaker  \\\n",
       "file                                                        \n",
       "./emodb/wav/03a01Fa.wav    0 days 00:00:01.898250       3   \n",
       "./emodb/wav/03a01Nc.wav    0 days 00:00:01.611250       3   \n",
       "./emodb/wav/03a01Wa.wav 0 days 00:00:01.877812500       3   \n",
       "./emodb/wav/03a02Fc.wav    0 days 00:00:02.006250       3   \n",
       "./emodb/wav/03a02Nc.wav 0 days 00:00:01.439812500       3   \n",
       "\n",
       "                                                transcription gender  age  \\\n",
       "file                                                                        \n",
       "./emodb/wav/03a01Fa.wav  Der Lappen liegt auf dem Eisschrank.   male   31   \n",
       "./emodb/wav/03a01Nc.wav  Der Lappen liegt auf dem Eisschrank.   male   31   \n",
       "./emodb/wav/03a01Wa.wav  Der Lappen liegt auf dem Eisschrank.   male   31   \n",
       "./emodb/wav/03a02Fc.wav     Das will sie am Mittwoch abgeben.   male   31   \n",
       "./emodb/wav/03a02Nc.wav     Das will sie am Mittwoch abgeben.   male   31   \n",
       "\n",
       "                           emotion  wordcount    mean_f0  \n",
       "file                                                      \n",
       "./emodb/wav/03a01Fa.wav  happiness          6  31.188164  \n",
       "./emodb/wav/03a01Nc.wav    neutral          6  25.022936  \n",
       "./emodb/wav/03a01Wa.wav      anger          6  34.292316  \n",
       "./emodb/wav/03a02Fc.wav  happiness          6  37.576569  \n",
       "./emodb/wav/03a02Nc.wav    neutral          6  25.040188  "
      ]
     },
     "execution_count": 10,
     "metadata": {},
     "output_type": "execute_result"
    }
   ],
   "source": [
    "df.head()"
   ]
  },
  {
   "cell_type": "code",
   "execution_count": null,
   "metadata": {},
   "outputs": [],
   "source": []
  }
 ],
 "metadata": {
  "kernelspec": {
   "display_name": "Python 3",
   "language": "python",
   "name": "python3"
  },
  "language_info": {
   "codemirror_mode": {
    "name": "ipython",
    "version": 3
   },
   "file_extension": ".py",
   "mimetype": "text/x-python",
   "name": "python",
   "nbconvert_exporter": "python",
   "pygments_lexer": "ipython3",
   "version": "3.8.10"
  }
 },
 "nbformat": 4,
 "nbformat_minor": 5
}

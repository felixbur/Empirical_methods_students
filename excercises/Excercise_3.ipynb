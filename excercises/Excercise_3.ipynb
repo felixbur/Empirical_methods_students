{
 "cells": [
  {
   "cell_type": "markdown",
   "metadata": {},
   "source": [
    "# Excercise 3 t-tests for independent samples"
   ]
  },
  {
   "cell_type": "markdown",
   "metadata": {},
   "source": [
    "## Names of students\n",
    "XXX"
   ]
  },
  {
   "cell_type": "markdown",
   "metadata": {},
   "source": [
    "## Task 0:\n",
    "* fill the blanks: XXX"
   ]
  },
  {
   "cell_type": "markdown",
   "metadata": {},
   "source": [
    "## Task 1: Question: what does a t-test do?\n",
    "Answer: XXX"
   ]
  },
  {
   "cell_type": "markdown",
   "metadata": {},
   "source": [
    "## Topic: Compare statistic differences of the dependent variable between the sexes\n",
    "\n",
    "Idea: sexes in pairs are statistically independent\n",
    "\n",
    "* twosided vs onesided\n",
    "* paired vs not"
   ]
  },
  {
   "cell_type": "code",
   "execution_count": null,
   "metadata": {},
   "outputs": [],
   "source": [
    "import pandas as pd\n",
    "import warnings\n",
    "import numpy as np\n",
    "import matplotlib.pyplot as plt\n",
    "import seaborn as sns\n",
    "import pingouin as pg\n",
    "import scipy"
   ]
  },
  {
   "cell_type": "markdown",
   "metadata": {},
   "source": [
    "[Here's a package for statistic tests](https://pingouin-stats.org/index.html)"
   ]
  },
  {
   "cell_type": "code",
   "execution_count": null,
   "metadata": {},
   "outputs": [],
   "source": [
    "# read in data\n",
    "df = pd.read_pickle(XXX)"
   ]
  },
  {
   "cell_type": "markdown",
   "metadata": {},
   "source": [
    "## Preliminary: introduce confidence plots"
   ]
  },
  {
   "cell_type": "code",
   "execution_count": null,
   "metadata": {},
   "outputs": [],
   "source": [
    "# compute the confidence interval\n",
    "def mean_confidence_interval(data, confidence=0.95):\n",
    "    a = 1.0 * np.array(data)\n",
    "    n = len(a)\n",
    "    m, se = np.mean(a), scipy.stats.sem(a)\n",
    "    h = se * scipy.stats.t.ppf((1 + confidence) / 2., n-1)\n",
    "    return m, h"
   ]
  },
  {
   "cell_type": "code",
   "execution_count": null,
   "metadata": {},
   "outputs": [],
   "source": [
    "# plot it for two data series\n",
    "def plot_confidence_interval(a, b):\n",
    "    mn, hn = mean_confidence_interval(a)\n",
    "    me, he = mean_confidence_interval(b)\n",
    "    df_p = pd.DataFrame({'data':['a', 'b'], 'mean':[mn, me], 'ci':[hn, he]})\n",
    "    plt.clf()\n",
    "    plt.errorbar(df_p['data'], df_p['mean'], yerr=df_p['ci'], linestyle='none', fmt='bo')\n",
    "    plt.show()    "
   ]
  },
  {
   "cell_type": "markdown",
   "metadata": {},
   "source": [
    "## Task 1:\n",
    "* Compare features between sexes"
   ]
  },
  {
   "cell_type": "code",
   "execution_count": null,
   "metadata": {},
   "outputs": [],
   "source": [
    "female = df[df.sex==XXX]\n",
    "male = df[df.sex==XXX]"
   ]
  },
  {
   "cell_type": "code",
   "execution_count": null,
   "metadata": {},
   "outputs": [],
   "source": [
    "# compare confidence intervals per sex for mean F0\n",
    "plot_confidence_interval(female.XXX, male.XXX)"
   ]
  },
  {
   "cell_type": "code",
   "execution_count": null,
   "metadata": {},
   "outputs": [],
   "source": [
    "# perform a ttest for unpaired values\n",
    "pg.ttest(female.mean_f0, male.mean_f0, paired = XXX)"
   ]
  },
  {
   "cell_type": "code",
   "execution_count": null,
   "metadata": {},
   "outputs": [],
   "source": [
    "# compute the effect size based on Cohen's d\n",
    "pg.compute_effsize(XXX, XXX, paired=XXX, eftype='cohen')"
   ]
  },
  {
   "cell_type": "code",
   "execution_count": null,
   "metadata": {},
   "outputs": [],
   "source": [
    " # repeat the ttest above but for speech_rate\n",
    " XXX"
   ]
  },
  {
   "cell_type": "code",
   "execution_count": null,
   "metadata": {},
   "outputs": [],
   "source": [
    "# repeat the ttest for the sex scaled (normalized) values\n",
    "pg.ttest(female.XXX, male.XXX)"
   ]
  },
  {
   "cell_type": "markdown",
   "metadata": {},
   "source": [
    "## interpret your results\n",
    "### Answer: \n",
    "XXX"
   ]
  }
 ],
 "metadata": {
  "interpreter": {
   "hash": "55d47b72362a172171ddf1d3f425153cea7a3801953229ac15e584d752e02499"
  },
  "kernelspec": {
   "display_name": "Python 3.8.10 64-bit ('researchEnv': venv)",
   "name": "python3"
  },
  "language_info": {
   "codemirror_mode": {
    "name": "ipython",
    "version": 3
   },
   "file_extension": ".py",
   "mimetype": "text/x-python",
   "name": "python",
   "nbconvert_exporter": "python",
   "pygments_lexer": "ipython3",
   "version": "3.8.10"
  }
 },
 "nbformat": 4,
 "nbformat_minor": 4
}
